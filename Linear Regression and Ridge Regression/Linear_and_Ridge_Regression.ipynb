{
  "nbformat": 4,
  "nbformat_minor": 0,
  "metadata": {
    "colab": {
      "name": "Question_2.ipynb",
      "provenance": []
    },
    "kernelspec": {
      "name": "python3",
      "display_name": "Python 3"
    },
    "language_info": {
      "name": "python"
    }
  },
  "cells": [
    {
      "cell_type": "code",
      "execution_count": null,
      "metadata": {
        "colab": {
          "base_uri": "https://localhost:8080/"
        },
        "id": "xAqsYjsIrURo",
        "outputId": "1cdcc484-42b4-418b-dbe6-06fe5c55e542"
      },
      "outputs": [
        {
          "output_type": "stream",
          "name": "stdout",
          "text": [
            "Shape of data :  (10000, 101)\n",
            "Shape of X :  (10000, 100)\n",
            "Shape of y :  (10000,)\n",
            "Shape of test data :  (500, 101)\n",
            "Shape of X_test :  (500, 100)\n",
            "Shape of y_test :  (500,)\n"
          ]
        }
      ],
      "source": [
        "import numpy as np\n",
        "import pandas as pd\n",
        "import matplotlib.pyplot as plt\n",
        "\n",
        "df=pd.read_csv('A2Q2Data_train.csv', sep=',',header=None)\n",
        "data = df.values\n",
        "print(\"Shape of data : \", np.shape(data))\n",
        "X = data[:,:100]\n",
        "y = data[:, 100]\n",
        "print(\"Shape of X : \", np.shape(X))\n",
        "print(\"Shape of y : \", np.shape(y))\n",
        "\n",
        "\n",
        "#test data\n",
        "df_test=pd.read_csv('A2Q2Data_test.csv', sep=',',header=None)\n",
        "data_test = df_test.values\n",
        "print(\"Shape of test data : \", np.shape(data_test))\n",
        "X_test = data_test[:,:100]\n",
        "y_test = data_test[:, 100]\n",
        "print(\"Shape of X_test : \", np.shape(X_test))\n",
        "print(\"Shape of y_test : \", np.shape(y_test))"
      ]
    },
    {
      "cell_type": "code",
      "source": [
        "#w_ML analytical solution\n",
        "def w_ML_analytical(X, y):\n",
        "  \n",
        "  no_of_training_examples = X.shape[0]\n",
        "  # Adds a column of 1s at the beginning of the X matrix\n",
        "  X = np.c_[np.ones((len(X), 1)), X]\n",
        "  y = y.reshape(no_of_training_examples,1)\n",
        "  w_ML = np.dot(np.linalg.pinv(np.dot(X.T, X)), np.dot(X.T, y))\n",
        "\n",
        "  return w_ML"
      ],
      "metadata": {
        "id": "tAsx0BWYwgrL"
      },
      "execution_count": null,
      "outputs": []
    },
    {
      "cell_type": "code",
      "source": [
        "#result is the (101, 1) dimensional parameter vector\n",
        "w_ML = w_ML_analytical(X, y)\n",
        "print(np.shape(w_ML))"
      ],
      "metadata": {
        "id": "JzOcbW4-24MI",
        "outputId": "123e6106-4879-4c48-c1a4-c05d15ffce4b",
        "colab": {
          "base_uri": "https://localhost:8080/"
        }
      },
      "execution_count": null,
      "outputs": [
        {
          "output_type": "stream",
          "name": "stdout",
          "text": [
            "(101, 1)\n"
          ]
        }
      ]
    },
    {
      "cell_type": "code",
      "source": [
        "# Adds a column of 1s at the beginning of X matrix\n",
        "def add_column_of_ones(X):\n",
        "  X_new = np.c_[np.ones((len(X), 1)), X]\n",
        "  return X_new\n",
        "\n",
        "# Initializes the parameter vector w\n",
        "def initialise_w(X):\n",
        "  w = np.random.randn(len(X[0])+1, 1)\n",
        "  return w\n",
        "\n",
        "\n",
        "# Implements the gradient descent algorithm\n",
        "def gradient_descent(X,y,learning_rate, number_of_iterations):\n",
        "    \n",
        "    y_new = np.reshape(y, (len(y), 1))   \n",
        "    cost_function_values = []\n",
        "    X_new = add_column_of_ones(X)\n",
        "    w = initialise_w(X)\n",
        "    l = []\n",
        "    m = len(X)\n",
        "\n",
        "    \n",
        "    for i in range(number_of_iterations):\n",
        "        grads = 2/m * X_new.T.dot(X_new.dot(w) - y_new)\n",
        "        w = w - learning_rate * grads\n",
        "        l.append(np.linalg.norm(result-w))\n",
        "        y_pred = X_new.dot(w)\n",
        "        cost = 1/(2*len(y))*((y_pred - y)**2) \n",
        "        total = 0\n",
        "        for j in range(len(y)):\n",
        "            total += cost[j][0] \n",
        "        cost_function_values.append(total)\n",
        "\n",
        "\n",
        "    return (w, cost_function_values, l)"
      ],
      "metadata": {
        "id": "qzh5zt91DDGA"
      },
      "execution_count": null,
      "outputs": []
    },
    {
      "cell_type": "code",
      "source": [
        "(w, cost_function_values, d1) = gradient_descent(X,y, 0.03, 5000)"
      ],
      "metadata": {
        "id": "z07iuagwPxfh"
      },
      "execution_count": null,
      "outputs": []
    },
    {
      "cell_type": "code",
      "source": [
        "print(np.linalg.norm(w-result))"
      ],
      "metadata": {
        "colab": {
          "base_uri": "https://localhost:8080/"
        },
        "id": "OQL7nBD9nai0",
        "outputId": "21aba9b0-0aad-4864-93a3-77f21668482e"
      },
      "execution_count": null,
      "outputs": [
        {
          "output_type": "stream",
          "name": "stdout",
          "text": [
            "0.01792570649139613\n"
          ]
        }
      ]
    },
    {
      "cell_type": "code",
      "source": [
        "plt.plot(np.arange(1,5000),cost_function_values[1:], color = 'red')\n",
        "plt.title('Cost vs Number of iterations')\n",
        "plt.xlabel('Number of iterations')\n",
        "plt.ylabel('Cost')"
      ],
      "metadata": {
        "colab": {
          "base_uri": "https://localhost:8080/",
          "height": 312
        },
        "id": "_LWRb73-3Ho1",
        "outputId": "bcb2d536-f784-4a7e-e8d1-99bfb61c3dc9"
      },
      "execution_count": null,
      "outputs": [
        {
          "output_type": "execute_result",
          "data": {
            "text/plain": [
              "Text(0, 0.5, 'Cost')"
            ]
          },
          "metadata": {},
          "execution_count": 8
        },
        {
          "output_type": "display_data",
          "data": {
            "text/plain": [
              "<Figure size 432x288 with 1 Axes>"
            ],
            "image/png": "[encoded data removed]"
          },
          "metadata": {
            "needs_background": "light"
          }
        }
      ]
    },
    {
      "cell_type": "code",
      "source": [
        "plt.plot(np.arange(1,5000),d1[1:], color = 'red')\n",
        "plt.title('||W_t - W_ml|| vs Number of iterations')\n",
        "plt.xlabel('Number of iterations')\n",
        "plt.ylabel('||W_t - W_ml||')"
      ],
      "metadata": {
        "colab": {
          "base_uri": "https://localhost:8080/",
          "height": 312
        },
        "id": "62DeX3JS3MJR",
        "outputId": "2d908ebd-9410-486d-a18e-d3e442c211da"
      },
      "execution_count": null,
      "outputs": [
        {
          "output_type": "execute_result",
          "data": {
            "text/plain": [
              "Text(0, 0.5, '||W_t - W_ml||')"
            ]
          },
          "metadata": {},
          "execution_count": 9
        },
        {
          "output_type": "display_data",
          "data": {
            "text/plain": [
              "<Figure size 432x288 with 1 Axes>"
            ],
            "image/png": "[encoded data removed]"
          },
          "metadata": {
            "needs_background": "light"
          }
        }
      ]
    },
    {
      "cell_type": "code",
      "source": [
        "# this function generates mini batches\n",
        "def mini_batch_generation(data, batch_size):\n",
        "  \n",
        "  all_the_mini_batches = []\n",
        "  # Adds a column of 1s at the beginning of the data matrix\n",
        "  data_matrix = np.c_[np.ones((len(data), 1)), data]\n",
        "  # Shuffles rows of the data matrix\n",
        "  np.random.shuffle(data_matrix)\n",
        "  number_of_minibatches = data_matrix.shape[0] // batch_size\n",
        "\n",
        "  for i in range(number_of_minibatches):\n",
        "    current_mini_batch = data_matrix[i * batch_size:(i + 1)*batch_size, :]\n",
        "    X_current_mini_batch = current_mini_batch[:, :-1]\n",
        "    Y_current_mini_batch = current_mini_batch[:, -1].reshape((-1, 1))\n",
        "    all_the_mini_batches.append((X_current_mini_batch, Y_current_mini_batch))\n",
        "\n",
        "  return all_the_mini_batches\n",
        "  "
      ],
      "metadata": {
        "id": "rGtXgS1liQwo"
      },
      "execution_count": null,
      "outputs": []
    },
    {
      "cell_type": "code",
      "source": [
        "# Implements the mini-batch gradient descent algorithm\n",
        "def mini_batch_gradient_descent(data, learning_rate, batch_size, number_of_iterations):\n",
        "  \n",
        "  w = initialise_w(data[:, :-1])\n",
        "  cost_function_values = []\n",
        "  l = []\n",
        "  \n",
        "  for i in range(number_of_iterations):\n",
        "    mini_batches = mini_batch_generation(data, batch_size)\n",
        "    for mini_batch in mini_batches:\n",
        "      X_new, y_new = mini_batch\n",
        "      m = len(X_new)\n",
        "      grads = 2/m * X_new.T.dot(X_new.dot(w) - y_new)\n",
        "      w = w - learning_rate * grads\n",
        "      l.append(np.linalg.norm(result-w))\n",
        "      y_pred = X_new.dot(w)\n",
        "      cost = 1/(2*len(y_new))*((y_pred - y_new)**2)\n",
        "      total = 0\n",
        "      for j in range(len(y_new)):\n",
        "        total += cost[j][0] \n",
        "      cost_function_values.append(total)\n",
        "\n",
        "  return (w, cost_function_values, l)"
      ],
      "metadata": {
        "id": "g-vXtW5UEOeB"
      },
      "execution_count": null,
      "outputs": []
    },
    {
      "cell_type": "code",
      "source": [
        "(w, cost_function_values, d2) = mini_batch_gradient_descent(data, 0.01, 100, 500)"
      ],
      "metadata": {
        "id": "unoE8bMxRoAI"
      },
      "execution_count": null,
      "outputs": []
    },
    {
      "cell_type": "code",
      "source": [
        "print(np.linalg.norm(w-result))"
      ],
      "metadata": {
        "colab": {
          "base_uri": "https://localhost:8080/"
        },
        "id": "ClZQCuXoEwtF",
        "outputId": "b12420f3-784d-4784-d7dd-b941791bc0da"
      },
      "execution_count": null,
      "outputs": [
        {
          "output_type": "stream",
          "name": "stdout",
          "text": [
            "0.04404551411179389\n"
          ]
        }
      ]
    },
    {
      "cell_type": "code",
      "source": [
        "plt.plot(cost_function_values[:1000], color = 'red')\n",
        "plt.title('Cost vs Number of parameter updates')\n",
        "plt.xlabel(\"Number of parameter updates\")\n",
        "plt.ylabel(\"Cost\")\n",
        "plt.show()"
      ],
      "metadata": {
        "colab": {
          "base_uri": "https://localhost:8080/",
          "height": 295
        },
        "id": "yFStDI6NSjnH",
        "outputId": "5b8d80c1-7871-4581-8418-bc59aadbada6"
      },
      "execution_count": null,
      "outputs": [
        {
          "output_type": "display_data",
          "data": {
            "text/plain": [
              "<Figure size 432x288 with 1 Axes>"
            ],
            "image/png": "[encoded data removed]"
          },
          "metadata": {
            "needs_background": "light"
          }
        }
      ]
    },
    {
      "cell_type": "code",
      "source": [
        "plt.plot(d2[:5000], color = 'red')\n",
        "plt.title('||W_t - W_ml|| vs Number of parameter updates')\n",
        "plt.xlabel(\"Number of parameter updates\")\n",
        "plt.ylabel(\"||W_t - W_ml||\")\n",
        "plt.show()"
      ],
      "metadata": {
        "colab": {
          "base_uri": "https://localhost:8080/",
          "height": 295
        },
        "id": "Ir338bLFWI1X",
        "outputId": "923449a6-d964-4ef1-b0e6-529dd69f9063"
      },
      "execution_count": null,
      "outputs": [
        {
          "output_type": "display_data",
          "data": {
            "text/plain": [
              "<Figure size 432x288 with 1 Axes>"
            ],
            "image/png": "[encoded data removed]"
          },
          "metadata": {
            "needs_background": "light"
          }
        }
      ]
    },
    {
      "cell_type": "code",
      "source": [
        "# Question 2 : (iv)\n",
        "\n",
        "X_data = np.c_[np.ones((len(X), 1)), X]\n",
        "y_data = np.reshape(y, (len(y), 1))\n",
        "print(np.shape(X_data))\n",
        "print(np.shape(y_data))\n",
        "\n",
        "#training data\n",
        "X_data_train = X_data[: 9000, :]\n",
        "y_data_train = y_data[: 9000, :]\n",
        "print(np.shape(X_data_train))\n",
        "print(np.shape(y_data_train))\n",
        "\n",
        "#validation data\n",
        "X_data_validation = X_data[9000: , :]\n",
        "y_data_validation = y_data[9000: , :]\n",
        "print(np.shape(X_data_validation))\n",
        "print(np.shape(y_data_validation))"
      ],
      "metadata": {
        "colab": {
          "base_uri": "https://localhost:8080/"
        },
        "id": "YvqbJ8VooY0C",
        "outputId": "b40f6c16-b185-4dd1-f7de-17764a147233"
      },
      "execution_count": null,
      "outputs": [
        {
          "output_type": "stream",
          "name": "stdout",
          "text": [
            "(10000, 101)\n",
            "(10000, 1)\n",
            "(9000, 101)\n",
            "(9000, 1)\n",
            "(1000, 101)\n",
            "(1000, 1)\n"
          ]
        }
      ]
    },
    {
      "cell_type": "code",
      "source": [
        "# ridge regression cost function\n",
        "def ridge_cost_func(X_data,y_data,w,lamda):\n",
        "    \n",
        "    m = len(y_data) \n",
        "    J = 0\n",
        "    \n",
        "    h = X_data @ w\n",
        "    J_reg = (lamda / (2*m)) * np.sum(np.square(w))\n",
        "    J = float((1./(2*m)) * (h - y_data).T @ (h - y_data)) + J_reg\n",
        "\n",
        "    return J "
      ],
      "metadata": {
        "id": "bfi22mXYrKaD"
      },
      "execution_count": null,
      "outputs": []
    },
    {
      "cell_type": "code",
      "source": [
        "# ridge regression gradient descent\n",
        "def ridge_gradient_descent(X_data,y_data, learning_rate,lamda,num_of_iterations):\n",
        "     \n",
        "    m = np.size(y_data)\n",
        "    w = np.random.randn(len(X_data[0]), 1)\n",
        "    cost_function_values = []\n",
        "\n",
        "    for i in range(num_of_iterations):\n",
        "\n",
        "        h = np.dot(X_data,w)\n",
        "        \n",
        "        w = w - learning_rate * (1/m)* (  (X_data.T @ (h-y_data)) + lamda * w )\n",
        "           \n",
        "        cost_function_values.append(ridge_cost_func(X_data,y_data,w,lamda))\n",
        "              \n",
        "    return (w, cost_function_values)"
      ],
      "metadata": {
        "id": "FLlZh_IjtKvp"
      },
      "execution_count": null,
      "outputs": []
    },
    {
      "cell_type": "code",
      "source": [
        "(w, cost_function_values) = ridge_gradient_descent(X_data_train,y_data_train, learning_rate = 0.03,lamda = 10,num_of_iterations=2000)"
      ],
      "metadata": {
        "id": "V0OMu975w8Ga"
      },
      "execution_count": null,
      "outputs": []
    },
    {
      "cell_type": "code",
      "source": [
        "plt.plot(cost_function_values, color = 'red')\n",
        "plt.title('Cost vs Number of iterations(lambda = 10)')\n",
        "plt.xlabel(\"Number of iterations\")\n",
        "plt.ylabel(\"Cost(Ridge Regression)\")\n",
        "plt.show()"
      ],
      "metadata": {
        "colab": {
          "base_uri": "https://localhost:8080/",
          "height": 295
        },
        "id": "9LiJChR3MdaI",
        "outputId": "804b3121-0891-4329-b051-673361061e52"
      },
      "execution_count": null,
      "outputs": [
        {
          "output_type": "display_data",
          "data": {
            "text/plain": [
              "<Figure size 432x288 with 1 Axes>"
            ],
            "image/png": "[encoded data removed]"
          },
          "metadata": {
            "needs_background": "light"
          }
        }
      ]
    },
    {
      "cell_type": "code",
      "source": [
        "# error calculation\n",
        "def error(X,y,w):\n",
        "\n",
        "    m = np.size(y)\n",
        "    h = X @ w\n",
        "    J = float((1./(2*m)) * (h - y).T @ (h - y))\n",
        "\n",
        "    return J"
      ],
      "metadata": {
        "id": "sVT4iCTHCMZn"
      },
      "execution_count": null,
      "outputs": []
    },
    {
      "cell_type": "code",
      "source": [
        "# code for finding the best lambda\n",
        "errors = []\n",
        "\n",
        "for lamda in np.linspace(0.0, 15.0, num=31):\n",
        "  \n",
        "  (w, cost_function_values) = ridge_gradient_descent(X_data_train,y_data_train, learning_rate = 0.03, lamda = lamda,num_of_iterations=2000)\n",
        "  res = error(X_data_validation, y_data_validation, w)\n",
        "  errors.append(res)\n"
      ],
      "metadata": {
        "id": "H6la8v-1ESB4"
      },
      "execution_count": null,
      "outputs": []
    },
    {
      "cell_type": "code",
      "source": [
        "plt.plot(np.linspace(0.0, 15.0, num=31),errors, color = 'red')\n",
        "plt.title('Validation Error vs lambda values')\n",
        "plt.xlabel('lambda')\n",
        "plt.ylabel('Validation Error')"
      ],
      "metadata": {
        "colab": {
          "base_uri": "https://localhost:8080/",
          "height": 312
        },
        "id": "tH2XRrS4IG5t",
        "outputId": "b3557c38-cac1-4fea-802f-e1d6dfa14fcd"
      },
      "execution_count": null,
      "outputs": [
        {
          "output_type": "execute_result",
          "data": {
            "text/plain": [
              "Text(0, 0.5, 'Validation Error')"
            ]
          },
          "metadata": {},
          "execution_count": 13
        },
        {
          "output_type": "display_data",
          "data": {
            "text/plain": [
              "<Figure size 432x288 with 1 Axes>"
            ],
            "image/png": "[encoded data removed]"
          },
          "metadata": {
            "needs_background": "light"
          }
        }
      ]
    },
    {
      "cell_type": "code",
      "source": [
        "# w_R for lambda = 6\n",
        "(w_R, cost_function_values) = ridge_gradient_descent(X_data_train,y_data_train, learning_rate = 0.03,lamda = 6,num_of_iterations=2000)"
      ],
      "metadata": {
        "id": "uHbdROpoRkk6"
      },
      "execution_count": null,
      "outputs": []
    },
    {
      "cell_type": "code",
      "source": [
        "X_test_data = np.c_[np.ones((len(X_test), 1)), X_test]\n",
        "y_test_data = np.reshape(y_test, (len(y_test), 1))\n",
        "\n",
        "print(np.shape(X_test_data))\n",
        "print(np.shape(y_test_data))"
      ],
      "metadata": {
        "colab": {
          "base_uri": "https://localhost:8080/"
        },
        "id": "EAe2_Ffi5Mzu",
        "outputId": "19b2bd13-b372-4f8e-c761-22fdfde96f4e"
      },
      "execution_count": null,
      "outputs": [
        {
          "output_type": "stream",
          "name": "stdout",
          "text": [
            "(500, 101)\n",
            "(500, 1)\n"
          ]
        }
      ]
    },
    {
      "cell_type": "code",
      "source": [
        "#test error of w_R\n",
        "print(error(X_test_data, y_test_data, w_R))"
      ],
      "metadata": {
        "colab": {
          "base_uri": "https://localhost:8080/"
        },
        "id": "yoWd3if56ZWF",
        "outputId": "f5cedfdb-ef8d-464d-afa4-3f72c4a9d334"
      },
      "execution_count": null,
      "outputs": [
        {
          "output_type": "stream",
          "name": "stdout",
          "text": [
            "0.18387421006338558\n"
          ]
        }
      ]
    },
    {
      "cell_type": "code",
      "source": [
        "#test error of w_ML\n",
        "print(error(X_test_data, y_test_data, w_ML))"
      ],
      "metadata": {
        "colab": {
          "base_uri": "https://localhost:8080/"
        },
        "id": "1C84eZVC7FgL",
        "outputId": "4371f444-c429-4d2a-e445-46c343586387"
      },
      "execution_count": null,
      "outputs": [
        {
          "output_type": "stream",
          "name": "stdout",
          "text": [
            "0.18537575114434596\n"
          ]
        }
      ]
    }
  ]
}