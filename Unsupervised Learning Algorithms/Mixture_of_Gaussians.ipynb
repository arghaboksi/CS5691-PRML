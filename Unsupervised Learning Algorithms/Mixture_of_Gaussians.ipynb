{
  "cells": [
    {
      "cell_type": "code",
      "execution_count": null,
      "metadata": {
        "colab": {
          "base_uri": "https://localhost:8080/",
          "height": 296
        },
        "id": "S6bvytO1dQEX",
        "outputId": "e34deb92-7779-4d0e-b4b0-2249b418c2f2"
      },
      "outputs": [
        {
          "output_type": "stream",
          "name": "stdout",
          "text": [
            "Shape of data :  (1000, 1)\n"
          ]
        },
        {
          "output_type": "display_data",
          "data": {
            "text/plain": [
              "<Figure size 432x288 with 1 Axes>"
            ],
            "image/png": "[encoded data removed]"
          },
          "metadata": {
            "needs_background": "light"
          }
        }
      ],
      "source": [
        "import numpy as np\n",
        "import matplotlib.pyplot as plt\n",
        "import pandas as pd\n",
        "from scipy.stats import norm\n",
        "# Using random and softmax to generate random numbers\n",
        "import random\n",
        "from scipy.special import softmax\n",
        "\n",
        "df=pd.read_csv('A2Q1.csv', sep=',',header=None)\n",
        "data = df.values\n",
        "print(\"Shape of data : \", np.shape(data))\n",
        "\n",
        "val = 0. \n",
        "arr = data \n",
        "plt.plot(arr, np.zeros_like(arr) + val, 'x')\n",
        "plt.xlabel('x')\n",
        "plt.ylabel('y')\n",
        "plt.show()"
      ]
    },
    {
      "cell_type": "code",
      "execution_count": null,
      "metadata": {
        "colab": {
          "base_uri": "https://localhost:8080/",
          "height": 295
        },
        "id": "KHxgHyuVBHBQ",
        "outputId": "ef6b9991-73c2-4d0a-eca3-48a839fccf36"
      },
      "outputs": [
        {
          "output_type": "display_data",
          "data": {
            "text/plain": [
              "<Figure size 432x288 with 1 Axes>"
            ],
            "image/png": "[encoded data removed]"
          },
          "metadata": {
            "needs_background": "light"
          }
        }
      ],
      "source": [
        "x = data\n",
        "plt.hist(x)\n",
        "plt.xlabel('x')\n",
        "plt.title('Histogram')\n",
        "plt.show() "
      ]
    },
    {
      "cell_type": "code",
      "execution_count": null,
      "metadata": {
        "colab": {
          "base_uri": "https://localhost:8080/"
        },
        "id": "8MjP7-5_DtD8",
        "outputId": "288d809b-c33c-4529-807a-4906fa8512fe"
      },
      "outputs": [
        {
          "output_type": "stream",
          "name": "stdout",
          "text": [
            "(1000,)\n"
          ]
        }
      ],
      "source": [
        "X = np.reshape(data, (1000, ))\n",
        "print(np.shape(X))"
      ]
    },
    {
      "cell_type": "code",
      "execution_count": null,
      "metadata": {
        "colab": {
          "base_uri": "https://localhost:8080/",
          "height": 312
        },
        "id": "iOBQslZ_DDSG",
        "outputId": "47a3581a-c5a7-4851-aa68-a0e2520a3d71"
      },
      "outputs": [
        {
          "output_type": "execute_result",
          "data": {
            "text/plain": [
              "[<matplotlib.lines.Line2D at 0x7f58922ca110>]"
            ]
          },
          "metadata": {},
          "execution_count": 12
        },
        {
          "output_type": "display_data",
          "data": {
            "text/plain": [
              "<Figure size 432x288 with 1 Axes>"
            ],
            "image/png": "[encoded data removed]"
          },
          "metadata": {
            "needs_background": "light"
          }
        }
      ],
      "source": [
        "class GMM:\n",
        "  def __init__(self, X, iterations):\n",
        "    self.iterations = iterations\n",
        "    self.X = X\n",
        "    self.mu = None\n",
        "    self.pi = None\n",
        "    self.sigma = None\n",
        "\n",
        "  def fit(self):\n",
        "\n",
        "    likelihoods = np.zeros(self.iterations)\n",
        "\n",
        "    for iter in range(100):\n",
        "\n",
        "        # Random Initialization of pi\n",
        "        nums = []\n",
        "        for i in range(4):\n",
        "          nums.append(random.uniform(0.1, 1))\n",
        "        self.pi = softmax(nums)\n",
        "\n",
        "        # Random Initialization of mu\n",
        "        self.mu = []\n",
        "        for i in range(4):\n",
        "          self.mu.append(random.uniform(10, 60))\n",
        "          \n",
        "        # Random Initialization of sigma\n",
        "        self.sigma = []\n",
        "        for i in range(4):\n",
        "          self.sigma.append(random.uniform(10, 80))\n",
        "\n",
        "        log_likelihoods = np.zeros(self.iterations)\n",
        "\n",
        "        for iteration in range(self.iterations):\n",
        "\n",
        "          lamda = np.zeros((len(X), 4))\n",
        "\n",
        "          for j, k, l in zip(range(4),[norm(loc=self.mu[0],scale=self.sigma[0]), norm(loc=self.mu[1],scale=self.sigma[1]), norm(loc=self.mu[2],scale=self.sigma[2]), norm(loc=self.mu[3],scale=self.sigma[3])],self.pi):\n",
        "            lamda[:,j] = l*k.pdf(X)  \n",
        "\n",
        "          for i in range(len(lamda)):\n",
        "            lamda[i] = lamda[i]/(np.sum(self.pi)*np.sum(lamda,axis=1)[i])\n",
        "\n",
        "\n",
        "\n",
        "          M = []\n",
        "\n",
        "          for x in range(len(lamda[0])):\n",
        "            m = np.sum(lamda[:,x])\n",
        "            M.append(m) \n",
        "\n",
        "          for y in range(len(M)):\n",
        "            self.pi[y] = (M[y]/np.sum(M)) \n",
        "\n",
        "          self.mu = np.sum(self.X.reshape(len(self.X),1)*lamda,axis=0)/M\n",
        "          \n",
        "          sigmas = []\n",
        "\n",
        "          for z in range(len(lamda[0])):\n",
        "            sigmas.append((1/M[z])*np.dot(((np.array(lamda[:,z]).reshape(1000,1))*(self.X.reshape(len(self.X),1)-self.mu[z])).T,(self.X.reshape(len(self.X),1)-self.mu[z])))\n",
        "\n",
        "          log_likelihoods[iteration] = np.log(np.sum([k*norm(self.mu[i],self.sigma[j]).pdf(X) for k,i,j in zip(self.pi,range(len(self.mu)),range(len(self.sigma)))]))\n",
        "\n",
        "\n",
        "        likelihoods = likelihoods + log_likelihoods\n",
        "\n",
        "    return likelihoods/100\n",
        "\n",
        "instance = GMM(X, 50)\n",
        "val = instance.fit()\n",
        "plt.xlabel(\"Number of Iterations\")\n",
        "plt.ylabel(\"Log-likelihood\")\n",
        "plt.title(\"log-likelihood(averaged over 100 random initializations)\")  \n",
        "plt.plot(val)            "
      ]
    }
  ],
  "metadata": {
    "colab": {
      "name": "Mixture of Gaussians.ipynb",
      "provenance": []
    },
    "kernelspec": {
      "display_name": "Python 3",
      "name": "python3"
    },
    "language_info": {
      "name": "python"
    }
  },
  "nbformat": 4,
  "nbformat_minor": 0
}