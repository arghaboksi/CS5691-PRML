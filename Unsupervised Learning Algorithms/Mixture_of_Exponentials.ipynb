{
  "nbformat": 4,
  "nbformat_minor": 0,
  "metadata": {
    "colab": {
      "name": "Mixture of Exponentials.ipynb",
      "provenance": []
    },
    "kernelspec": {
      "name": "python3",
      "display_name": "Python 3"
    },
    "language_info": {
      "name": "python"
    }
  },
  "cells": [
    {
      "cell_type": "code",
      "execution_count": null,
      "metadata": {
        "id": "ad5TuG-EHH4J",
        "colab": {
          "base_uri": "https://localhost:8080/",
          "height": 296
        },
        "outputId": "acd208b7-77a6-47ab-d823-483137cc9d4d"
      },
      "outputs": [
        {
          "output_type": "stream",
          "name": "stdout",
          "text": [
            "Shape of data :  (1000, 1)\n"
          ]
        },
        {
          "output_type": "display_data",
          "data": {
            "text/plain": [
              "<Figure size 432x288 with 1 Axes>"
            ],
            "image/png": "[encoded data removed]"
          },
          "metadata": {
            "needs_background": "light"
          }
        }
      ],
      "source": [
        "import numpy as np\n",
        "import matplotlib.pyplot as plt\n",
        "import pandas as pd\n",
        "from scipy.stats import norm\n",
        "from scipy.stats import expon\n",
        "# Using random and softmax to generate random numbers\n",
        "import random\n",
        "from scipy.special import softmax\n",
        "\n",
        "# Reading the dataset\n",
        "df=pd.read_csv('A2Q1.csv', sep=',',header=None)\n",
        "data = df.values\n",
        "print(\"Shape of data : \", np.shape(data))\n",
        "\n",
        "val = 0. \n",
        "arr = data \n",
        "plt.plot(arr, np.zeros_like(arr) + val, 'x')\n",
        "plt.xlabel('x')\n",
        "plt.ylabel('y')\n",
        "plt.show()"
      ]
    },
    {
      "cell_type": "code",
      "source": [
        "x = data\n",
        "plt.hist(x)\n",
        "plt.title('Histogram')\n",
        "plt.xlabel('x')\n",
        "plt.show() "
      ],
      "metadata": {
        "colab": {
          "base_uri": "https://localhost:8080/",
          "height": 295
        },
        "id": "qHXCvHbWJeNn",
        "outputId": "b2a0c604-b28f-4f9e-85e3-1b68a413b59f"
      },
      "execution_count": null,
      "outputs": [
        {
          "output_type": "display_data",
          "data": {
            "text/plain": [
              "<Figure size 432x288 with 1 Axes>"
            ],
            "image/png": "[encoded data removed]"
          },
          "metadata": {
            "needs_background": "light"
          }
        }
      ]
    },
    {
      "cell_type": "code",
      "source": [
        "X = np.reshape(data, (1000, ))\n",
        "print(np.shape(X))"
      ],
      "metadata": {
        "colab": {
          "base_uri": "https://localhost:8080/"
        },
        "id": "pqOboQd_JlnZ",
        "outputId": "4b6a152c-edff-44d2-e22a-0fbd3495a666"
      },
      "execution_count": null,
      "outputs": [
        {
          "output_type": "stream",
          "name": "stdout",
          "text": [
            "(1000,)\n"
          ]
        }
      ]
    },
    {
      "cell_type": "code",
      "source": [
        "class Mixture_of_exponentials:\n",
        "  def __init__(self, X, iterations):\n",
        "    self.iterations = iterations\n",
        "    self.X = X\n",
        "    self.lamda = None\n",
        "    self.pi = None\n",
        "\n",
        "  def fit(self):\n",
        "    \n",
        "    likelihoods = np.zeros(self.iterations)\n",
        "\n",
        "    for iter in range(100):\n",
        "\n",
        "      # Random Initialization of lamda \n",
        "      self.lamda = []\n",
        "      for i in range(4):\n",
        "        self.lamda.append(random.uniform(0.1, 1))\n",
        "      \n",
        "      # Random Initialization of pi\n",
        "      nums = []\n",
        "      for i in range(4):\n",
        "        nums.append(random.uniform(0.1, 1))\n",
        "      self.pi = softmax(nums)\n",
        "\n",
        "\n",
        "      log_likelihoods = np.zeros(self.iterations)\n",
        "\n",
        "      \n",
        "      for iteration in range(self.iterations):\n",
        "\n",
        "        \n",
        "        gamma = np.zeros((len(X), 4))\n",
        "\n",
        "        for j, k, l in zip(range(4),[expon(loc=0, scale=1/self.lamda[0]),  expon(loc=0, scale=1/self.lamda[1]), expon(loc=0, scale=1/self.lamda[2]), expon(loc=0, scale=1/self.lamda[3])],self.pi):\n",
        "          gamma[:,j] = l*k.pdf(X)  \n",
        "\n",
        "        for i in range(len(gamma)):\n",
        "          gamma[i] = gamma[i]/(np.sum(self.pi)*np.sum(gamma,axis=1)[i])\n",
        "\n",
        "\n",
        "        M = []\n",
        "\n",
        "        for x in range(len(gamma[0])):\n",
        "          m = np.sum(gamma[:,x])\n",
        "          M.append(m) \n",
        "\n",
        "        for y in range(len(M)):\n",
        "          self.pi[y] = (M[y]/np.sum(M)) \n",
        "\n",
        "        self.lamda = 1/(np.sum(self.X.reshape(len(self.X),1)*gamma,axis=0)/M)\n",
        "        \n",
        "        log_likelihoods[iteration] = np.log(np.sum([k*expon(loc=0, scale=1/self.lamda[i]).pdf(X) for k,i in zip(self.pi,range(len(self.lamda)))]))\n",
        "\n",
        "      likelihoods = likelihoods + log_likelihoods\n",
        "\n",
        "    return likelihoods/100\n",
        "\n",
        "instance = Mixture_of_exponentials(X, 10)\n",
        "val = instance.fit() \n",
        "plt.xlabel(\"Number of Iterations\")\n",
        "plt.ylabel(\"Log-likelihood\")\n",
        "plt.title(\"log-likelihood(averaged over 100 random initializations)\")  \n",
        "plt.plot(val)         "
      ],
      "metadata": {
        "colab": {
          "base_uri": "https://localhost:8080/",
          "height": 312
        },
        "id": "kU7wUCfVJq68",
        "outputId": "7fb4fc17-10b6-4f01-8b70-874c73b96168"
      },
      "execution_count": null,
      "outputs": [
        {
          "output_type": "execute_result",
          "data": {
            "text/plain": [
              "[<matplotlib.lines.Line2D at 0x7f780f908b50>]"
            ]
          },
          "metadata": {},
          "execution_count": 49
        },
        {
          "output_type": "display_data",
          "data": {
            "text/plain": [
              "<Figure size 432x288 with 1 Axes>"
            ],
            "image/png": "[encoded data removed]"
          },
          "metadata": {
            "needs_background": "light"
          }
        }
      ]
    }
  ]
}