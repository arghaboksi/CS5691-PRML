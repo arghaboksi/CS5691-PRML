{
  "nbformat": 4,
  "nbformat_minor": 0,
  "metadata": {
    "colab": {
      "name": "K Means.ipynb",
      "provenance": []
    },
    "kernelspec": {
      "name": "python3",
      "display_name": "Python 3"
    },
    "language_info": {
      "name": "python"
    }
  },
  "cells": [
    {
      "cell_type": "code",
      "execution_count": null,
      "metadata": {
        "id": "L3L0wQlEIw5v"
      },
      "outputs": [],
      "source": [
        "import numpy as np\n",
        "import pandas as pd\n",
        "import matplotlib.pyplot as plt"
      ]
    },
    {
      "cell_type": "code",
      "source": [
        "df=pd.read_csv('A2Q1.csv', sep=',',header=None)\n",
        "X = df.values\n",
        "print(np.shape(X))"
      ],
      "metadata": {
        "colab": {
          "base_uri": "https://localhost:8080/"
        },
        "id": "VJNI-QqxKCca",
        "outputId": "683b9494-fe9a-4cb9-bb78-1783181d9c45"
      },
      "execution_count": null,
      "outputs": [
        {
          "output_type": "stream",
          "name": "stdout",
          "text": [
            "(1000, 1)\n"
          ]
        }
      ]
    },
    {
      "cell_type": "code",
      "source": [
        "# Need to place K cluster centers at random locations\n",
        "def random_cluster_centers(X, K):\n",
        "  number_of_rows = X.shape[0]\n",
        "  number_of_columns = X.shape[1]\n",
        "  cluster_centers = np.zeros((K, number_of_columns))\n",
        "  for i in range(K):\n",
        "    cluster_centers[i] = X[np.random.randint(0, number_of_rows), :]\n",
        "  return cluster_centers"
      ],
      "metadata": {
        "id": "atiuhONSKebO"
      },
      "execution_count": null,
      "outputs": []
    },
    {
      "cell_type": "code",
      "source": [
        "# Need to assign data points to the closest cluster center\n",
        "def assignment(X, cluster_centers):\n",
        "  K = cluster_centers.shape[0]\n",
        "  Z = np.zeros((X.shape[0], 1))\n",
        "  temp = np.zeros((cluster_centers.shape[0], 1))\n",
        "  for i in range(X.shape[0]):\n",
        "    for j in range(K):\n",
        "      dist = X[i,:] - cluster_centers[j,:]\n",
        "      length = np.sum(dist**2)\n",
        "      temp[j] = length\n",
        "    Z[i] = np.argmin(temp)+1\n",
        "  return Z"
      ],
      "metadata": {
        "id": "Y-e_kcJ5KhI0"
      },
      "execution_count": null,
      "outputs": []
    },
    {
      "cell_type": "code",
      "source": [
        "# Mean of each cluster\n",
        "def cluster_mean(X, Z, K):\n",
        "  no_of_rows = X.shape[0]\n",
        "  no_of_columns = X.shape[1]\n",
        "  cluster_centers = np.zeros((K, no_of_columns))\n",
        "  count = np.zeros((K,1))\n",
        "\n",
        "  for i in range(no_of_rows):\n",
        "    index = int((Z[i]-1)[0])\n",
        "    cluster_centers[index,:]+=X[i,:]\n",
        "    count[index]+=1\n",
        "  \n",
        "  return cluster_centers/count"
      ],
      "metadata": {
        "id": "BQTcJFvbKhPk"
      },
      "execution_count": null,
      "outputs": []
    },
    {
      "cell_type": "code",
      "source": [
        "def error_function(X, Z, cluster_centers):\n",
        "  no_of_rows = X.shape[0]\n",
        "  no_of_columns = X.shape[1]\n",
        "  errors = []\n",
        "\n",
        "  for i in range(no_of_rows):\n",
        "    cluster_center = cluster_centers[int((Z[i]-1)[0])]\n",
        "    error = np.linalg.norm(X[i, :] - cluster_center)\n",
        "    errors.append(error**2)\n",
        "  \n",
        "  return sum(errors)"
      ],
      "metadata": {
        "id": "cNAvPQ9NKhXZ"
      },
      "execution_count": null,
      "outputs": []
    },
    {
      "cell_type": "code",
      "source": [
        "def kmeans(X, K, max_iter = 100, tol = pow(10,-6) ):\n",
        "    iteration = -1\n",
        "    all_sse = []\n",
        "    assignments = []\n",
        "    \n",
        "    centroids = random_cluster_centers(X, K)\n",
        "\n",
        "    while (len(all_sse)<=1 or (iteration < max_iter and np.absolute(all_sse[iteration] - all_sse[iteration-1])/all_sse[iteration-1] >= tol)):\n",
        "        iteration += 1\n",
        "        assignments = assignment(X, centroids)\n",
        "        centroids = cluster_mean(X, assignments, K)\n",
        "        sse_kmeans = error_function(X, assignments, centroids)\n",
        "        all_sse.append(sse_kmeans)        \n",
        "        \n",
        "     \n",
        "    return (assignments, centroids, all_sse, iteration)"
      ],
      "metadata": {
        "id": "7BwyYkp5Khi2"
      },
      "execution_count": null,
      "outputs": []
    },
    {
      "cell_type": "code",
      "source": [
        "result = kmeans(X,K=4)"
      ],
      "metadata": {
        "id": "TGdUBR01K-OF"
      },
      "execution_count": null,
      "outputs": []
    },
    {
      "cell_type": "code",
      "source": [
        "print(np.shape(result[0]))\n",
        "print(np.shape(result[1]))\n",
        "print(result[2])\n",
        "print(result[3])"
      ],
      "metadata": {
        "colab": {
          "base_uri": "https://localhost:8080/"
        },
        "id": "1TSWwsT8LT36",
        "outputId": "2dbeeceb-167a-460c-ec59-8cc49802d5ca"
      },
      "execution_count": null,
      "outputs": [
        {
          "output_type": "stream",
          "name": "stdout",
          "text": [
            "(1000, 1)\n",
            "(4, 1)\n",
            "[151111.82270647745, 85179.86686835966, 60057.18623221867, 43871.63198938776, 33198.57014707091, 29273.341080164406, 25459.68389870803, 22600.021699927955, 20364.419655331218, 17888.34451728737, 16306.906159355887, 14946.261399495666, 14013.611935074177, 13451.671528794868, 13255.524947570904, 13127.182547218721, 12968.330108219592, 12760.05619393716, 12542.677882837184, 12367.646044899939, 12334.32544131193, 12324.322495941195, 12294.846442237402, 12266.224807835442, 12265.698096225164, 12265.125966260099, 12264.341464096047, 12264.341464096047]\n",
            "27\n"
          ]
        }
      ]
    },
    {
      "cell_type": "code",
      "source": [
        "centroids_x = result[1][:, 0]\n",
        "centroids_y = np.zeros((4, ))\n",
        "x = X[:, 0]\n",
        "y = np.zeros((1000, ))\n",
        "assignments = result[0]\n",
        "plt.scatter(x, y, c=assignments)\n",
        "plt.plot(centroids_x,centroids_y, c='white', marker='.', linewidth='0.01', markerfacecolor='red', markersize=22)\n",
        "plt.xlabel(\"x\")\n",
        "plt.ylabel(\"y\")\n",
        "plt.title(\"K-means Visualization\")"
      ],
      "metadata": {
        "colab": {
          "base_uri": "https://localhost:8080/",
          "height": 312
        },
        "id": "ROOl6lexLNKO",
        "outputId": "cc773e91-897b-4cc9-d2b4-7e701ffbdb7a"
      },
      "execution_count": null,
      "outputs": [
        {
          "output_type": "execute_result",
          "data": {
            "text/plain": [
              "Text(0.5, 1.0, 'K-means Visualization')"
            ]
          },
          "metadata": {},
          "execution_count": 18
        },
        {
          "output_type": "display_data",
          "data": {
            "text/plain": [
              "<Figure size 432x288 with 1 Axes>"
            ],
            "image/png": "[encoded data removed]"
          },
          "metadata": {
            "needs_background": "light"
          }
        }
      ]
    },
    {
      "cell_type": "code",
      "source": [
        "plt.title(\"Objective of K-means w.r.t iterations\")\n",
        "plt.plot(result[2])\n",
        "plt.xlabel(\"Number of iterations\")\n",
        "plt.ylabel(\"Objective of K-means\")\n",
        "plt.show()"
      ],
      "metadata": {
        "colab": {
          "base_uri": "https://localhost:8080/",
          "height": 295
        },
        "id": "Tchmu_36Ouj3",
        "outputId": "910d0281-5dac-4efc-a13f-a3c10377fd0b"
      },
      "execution_count": null,
      "outputs": [
        {
          "output_type": "display_data",
          "data": {
            "text/plain": [
              "<Figure size 432x288 with 1 Axes>"
            ],
            "image/png": "[encoded data removed]"
          },
          "metadata": {
            "needs_background": "light"
          }
        }
      ]
    }
  ]
}