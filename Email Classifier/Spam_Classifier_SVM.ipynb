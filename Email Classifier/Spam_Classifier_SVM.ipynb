{
  "nbformat": 4,
  "nbformat_minor": 0,
  "metadata": {
    "colab": {
      "name": "Spam_Classifier_SVM.ipynb",
      "provenance": []
    },
    "kernelspec": {
      "name": "python3",
      "display_name": "Python 3"
    },
    "language_info": {
      "name": "python"
    }
  },
  "cells": [
    {
      "cell_type": "code",
      "source": [
        "import os\n",
        "import zipfile\n",
        "import numpy\n",
        "from pandas import DataFrame\n",
        "\n",
        "\n",
        "zip_path = 'dataset.zip'\n",
        "#reading the zip file\n",
        "zip_ref = zipfile.ZipFile(zip_path, 'r')\n",
        "#extracting the zip file \n",
        "# this creates a dataset folder which contains three sub folders - \n",
        "# a) easy_ham\n",
        "# b) hard_ham\n",
        "# c) spam\n",
        "zip_ref.extractall()\n",
        "zip_ref.close()"
      ],
      "metadata": {
        "id": "1JlzABpimvBb"
      },
      "execution_count": null,
      "outputs": []
    },
    {
      "cell_type": "code",
      "execution_count": null,
      "metadata": {
        "id": "4tPvWzg0ePUt"
      },
      "outputs": [],
      "source": [
        "NEWLINE_CHARACTER = '\\n'\n",
        "HAM = 'ham'\n",
        "SPAM = 'spam'\n",
        "\n",
        "# indicates which folders contain spam and which folders contain ham \n",
        "SOURCES = [\n",
        "    ('dataset/spam',        SPAM),\n",
        "    ('dataset/easy_ham',    HAM),\n",
        "    ('dataset/hard_ham',    HAM)\n",
        "]\n",
        "\n",
        "SKIP_FILES = {'cmds'}"
      ]
    },
    {
      "cell_type": "code",
      "source": [
        "# returns filepath and file content\n",
        "# skips the header of the content and keeps the body only\n",
        "def filename_filecontent(path):\n",
        "    for root_directory, directory_names, f_names in os.walk(path):\n",
        "        for path in directory_names:\n",
        "            filename_filecontent(os.path.join(root_directory, path))\n",
        "        for f_name in f_names:\n",
        "            if f_name not in SKIP_FILES:\n",
        "                f_path = os.path.join(root_directory, f_name)\n",
        "                if os.path.isfile(f_path):\n",
        "                    header_past_flag, list_lines = False, []\n",
        "                    f = open(f_path, encoding=\"latin-1\")\n",
        "                    for line in f:\n",
        "                        if header_past_flag:\n",
        "                            list_lines.append(line)\n",
        "                        elif line == NEWLINE_CHARACTER:\n",
        "                            header_past_flag = True\n",
        "                    f.close()\n",
        "                    content = NEWLINE_CHARACTER.join(list_lines)\n",
        "                    yield f_path, content"
      ],
      "metadata": {
        "id": "Hrsk76n3YET6"
      },
      "execution_count": null,
      "outputs": []
    },
    {
      "cell_type": "code",
      "source": [
        "# this creates the data frame that will store the dataset\n",
        "def create_data_frame(l, path, classification):\n",
        "    rows = []\n",
        "    index = []\n",
        "    for i, (file_name, text) in enumerate(filename_filecontent(path)):\n",
        "        rows.append({'text': text, 'class': classification})\n",
        "        index.append(file_name)\n",
        "   \n",
        "    data_frame = DataFrame(rows, index=index)\n",
        "    return data_frame, len(rows)"
      ],
      "metadata": {
        "id": "vC9wA5xAYH2z"
      },
      "execution_count": null,
      "outputs": []
    },
    {
      "cell_type": "code",
      "source": [
        "# loads data and randomly shuffles the dataset\n",
        "def load_data():\n",
        "    data = DataFrame({'text': [], 'class': []})\n",
        "    l = 0\n",
        "    for path, classification in SOURCES:\n",
        "        data_frame, nrows = create_data_frame(l, path, classification)\n",
        "        data = data.append(data_frame)\n",
        "        l += nrows\n",
        "    data = data.reindex(numpy.random.permutation(data.index))\n",
        "    return data"
      ],
      "metadata": {
        "id": "OGNTxRryYIBM"
      },
      "execution_count": null,
      "outputs": []
    },
    {
      "cell_type": "code",
      "source": [
        "# loads the whole dataset into a pandas dataframe\n",
        "data=load_data()\n",
        "len(data)"
      ],
      "metadata": {
        "colab": {
          "base_uri": "https://localhost:8080/"
        },
        "id": "ID1PppkWpuD4",
        "outputId": "e6c5d0c8-be7d-4054-e086-034bd75a7071"
      },
      "execution_count": null,
      "outputs": [
        {
          "output_type": "execute_result",
          "data": {
            "text/plain": [
              "6849"
            ]
          },
          "metadata": {},
          "execution_count": 6
        }
      ]
    },
    {
      "cell_type": "code",
      "source": [
        "# we have 6849 rows\n",
        "# data is a pandas dataframe, it has 6849 rows and \n",
        "# three columns - text, class and name\n",
        "data.describe()"
      ],
      "metadata": {
        "colab": {
          "base_uri": "https://localhost:8080/",
          "height": 173
        },
        "id": "yGj5SDJmqZBu",
        "outputId": "7513937a-5423-4134-f716-658a29ca1370"
      },
      "execution_count": null,
      "outputs": [
        {
          "output_type": "execute_result",
          "data": {
            "text/plain": [
              "                                                     text class\n",
              "count                                                6849  6849\n",
              "unique                                               5969     2\n",
              "top     ------000000000000000000000\\n\\nContent-Type: t...   ham\n",
              "freq                                                    8  4451"
            ],
            "text/html": [
              "\n",
              "  <div id=\"df-9f628793-8bbc-42f6-b1f1-c147c6094c2f\">\n",
              "    <div class=\"colab-df-container\">\n",
              "      <div>\n",
              "<style scoped>\n",
              "    .dataframe tbody tr th:only-of-type {\n",
              "        vertical-align: middle;\n",
              "    }\n",
              "\n",
              "    .dataframe tbody tr th {\n",
              "        vertical-align: top;\n",
              "    }\n",
              "\n",
              "    .dataframe thead th {\n",
              "        text-align: right;\n",
              "    }\n",
              "</style>\n",
              "<table border=\"1\" class=\"dataframe\">\n",
              "  <thead>\n",
              "    <tr style=\"text-align: right;\">\n",
              "      <th></th>\n",
              "      <th>text</th>\n",
              "      <th>class</th>\n",
              "    </tr>\n",
              "  </thead>\n",
              "  <tbody>\n",
              "    <tr>\n",
              "      <th>count</th>\n",
              "      <td>6849</td>\n",
              "      <td>6849</td>\n",
              "    </tr>\n",
              "    <tr>\n",
              "      <th>unique</th>\n",
              "      <td>5969</td>\n",
              "      <td>2</td>\n",
              "    </tr>\n",
              "    <tr>\n",
              "      <th>top</th>\n",
              "      <td>------000000000000000000000\\n\\nContent-Type: t...</td>\n",
              "      <td>ham</td>\n",
              "    </tr>\n",
              "    <tr>\n",
              "      <th>freq</th>\n",
              "      <td>8</td>\n",
              "      <td>4451</td>\n",
              "    </tr>\n",
              "  </tbody>\n",
              "</table>\n",
              "</div>\n",
              "      <button class=\"colab-df-convert\" onclick=\"convertToInteractive('df-9f628793-8bbc-42f6-b1f1-c147c6094c2f')\"\n",
              "              title=\"Convert this dataframe to an interactive table.\"\n",
              "              style=\"display:none;\">\n",
              "        \n",
              "  <svg xmlns=\"http://www.w3.org/2000/svg\" height=\"24px\"viewBox=\"0 0 24 24\"\n",
              "       width=\"24px\">\n",
              "    <path d=\"M0 0h24v24H0V0z\" fill=\"none\"/>\n",
              "    <path d=\"M18.56 5.44l.94 2.06.94-2.06 2.06-.94-2.06-.94-.94-2.06-.94 2.06-2.06.94zm-11 1L8.5 8.5l.94-2.06 2.06-.94-2.06-.94L8.5 2.5l-.94 2.06-2.06.94zm10 10l.94 2.06.94-2.06 2.06-.94-2.06-.94-.94-2.06-.94 2.06-2.06.94z\"/><path d=\"M17.41 7.96l-1.37-1.37c-.4-.4-.92-.59-1.43-.59-.52 0-1.04.2-1.43.59L10.3 9.45l-7.72 7.72c-.78.78-.78 2.05 0 2.83L4 21.41c.39.39.9.59 1.41.59.51 0 1.02-.2 1.41-.59l7.78-7.78 2.81-2.81c.8-.78.8-2.07 0-2.86zM5.41 20L4 18.59l7.72-7.72 1.47 1.35L5.41 20z\"/>\n",
              "  </svg>\n",
              "      </button>\n",
              "      \n",
              "  <style>\n",
              "    .colab-df-container {\n",
              "      display:flex;\n",
              "      flex-wrap:wrap;\n",
              "      gap: 12px;\n",
              "    }\n",
              "\n",
              "    .colab-df-convert {\n",
              "      background-color: #E8F0FE;\n",
              "      border: none;\n",
              "      border-radius: 50%;\n",
              "      cursor: pointer;\n",
              "      display: none;\n",
              "      fill: #1967D2;\n",
              "      height: 32px;\n",
              "      padding: 0 0 0 0;\n",
              "      width: 32px;\n",
              "    }\n",
              "\n",
              "    .colab-df-convert:hover {\n",
              "      background-color: #E2EBFA;\n",
              "      box-shadow: 0px 1px 2px rgba(60, 64, 67, 0.3), 0px 1px 3px 1px rgba(60, 64, 67, 0.15);\n",
              "      fill: #174EA6;\n",
              "    }\n",
              "\n",
              "    [theme=dark] .colab-df-convert {\n",
              "      background-color: #3B4455;\n",
              "      fill: #D2E3FC;\n",
              "    }\n",
              "\n",
              "    [theme=dark] .colab-df-convert:hover {\n",
              "      background-color: #434B5C;\n",
              "      box-shadow: 0px 1px 3px 1px rgba(0, 0, 0, 0.15);\n",
              "      filter: drop-shadow(0px 1px 2px rgba(0, 0, 0, 0.3));\n",
              "      fill: #FFFFFF;\n",
              "    }\n",
              "  </style>\n",
              "\n",
              "      <script>\n",
              "        const buttonEl =\n",
              "          document.querySelector('#df-9f628793-8bbc-42f6-b1f1-c147c6094c2f button.colab-df-convert');\n",
              "        buttonEl.style.display =\n",
              "          google.colab.kernel.accessAllowed ? 'block' : 'none';\n",
              "\n",
              "        async function convertToInteractive(key) {\n",
              "          const element = document.querySelector('#df-9f628793-8bbc-42f6-b1f1-c147c6094c2f');\n",
              "          const dataTable =\n",
              "            await google.colab.kernel.invokeFunction('convertToInteractive',\n",
              "                                                     [key], {});\n",
              "          if (!dataTable) return;\n",
              "\n",
              "          const docLinkHtml = 'Like what you see? Visit the ' +\n",
              "            '<a target=\"_blank\" href=https://colab.research.google.com/notebooks/data_table.ipynb>data table notebook</a>'\n",
              "            + ' to learn more about interactive tables.';\n",
              "          element.innerHTML = '';\n",
              "          dataTable['output_type'] = 'display_data';\n",
              "          await google.colab.output.renderOutput(dataTable, element);\n",
              "          const docLink = document.createElement('div');\n",
              "          docLink.innerHTML = docLinkHtml;\n",
              "          element.appendChild(docLink);\n",
              "        }\n",
              "      </script>\n",
              "    </div>\n",
              "  </div>\n",
              "  "
            ]
          },
          "metadata": {},
          "execution_count": 7
        }
      ]
    },
    {
      "cell_type": "code",
      "source": [
        "data.iloc[2]      #retreives the content of a particular row"
      ],
      "metadata": {
        "colab": {
          "base_uri": "https://localhost:8080/"
        },
        "id": "nK25MEDbqoRL",
        "outputId": "3a4138b8-b554-4fa7-9f85-b13a92b24a8c"
      },
      "execution_count": null,
      "outputs": [
        {
          "output_type": "execute_result",
          "data": {
            "text/plain": [
              "text     Isn't eBays trust the feedback?\\n\\n\\n\\n----- O...\n",
              "class                                                  ham\n",
              "Name: dataset/easy_ham/00652.be6b3138d3d7304c73ebba1ba3f687d1, dtype: object"
            ]
          },
          "metadata": {},
          "execution_count": 8
        }
      ]
    },
    {
      "cell_type": "code",
      "source": [
        "data.iloc[2]['text']      # an example email from the dataset"
      ],
      "metadata": {
        "colab": {
          "base_uri": "https://localhost:8080/",
          "height": 174
        },
        "id": "NUBRLYEitwKv",
        "outputId": "38142a67-58a4-4da8-a8a8-6972dab2e560"
      },
      "execution_count": null,
      "outputs": [
        {
          "output_type": "execute_result",
          "data": {
            "text/plain": [
              "'Isn\\'t eBays trust the feedback?\\n\\n\\n\\n----- Original Message -----\\n\\nFrom: \"Chip Paswater\" <turk182@chipware.net>\\n\\nTo: \"Patrick\" <patrick@stealthgeeks.net>\\n\\nCc: <razor-users@example.sourceforge.net>\\n\\nSent: Wednesday, August 14, 2002 9:51 PM\\n\\nSubject: Re: [Razor-users] Re: What\\'s wrong with the Razor servers now?\\n\\n\\n\\n\\n\\n> > > It\\'s not my desire to second-guess you Vipul (however much my missives\\n\\n> > > may appear otherwise) or question the hard work you and the other\\n\\n> > > developers have put into the system, however it seems that every\\n\\nrequest\\n\\n> > > for such information has been met with silence.\\n\\n> >\\n\\n> > There are no plans for releasing details about TeS. Before the\\n\\n> > release of Razor2, I\\'d pointed out that Razor2 backend (specially\\n\\n> > TeS) will be closed.\\n\\n>\\n\\n> Thanks for the clarification. Guess it\\'s time to find something that is\\n\\n> open.\\n\\n>\\n\\n> Good luck.\\n\\n\\n\\nWhy do the details of the backend need to be open?\\n\\n\\n\\nI don\\'t think that Ebay publishes it\\'s proprietary trust backend, why\\n\\nshould Razor?\\n\\n\\n\\n\\n\\n\\n\\n-------------------------------------------------------\\n\\nThis sf.net email is sponsored by: OSDN - Tired of that same old\\n\\ncell phone?  Get a new here for FREE!\\n\\nhttps://www.inphonic.com/r.asp?r=sourceforge1&refcode1=vs3390\\n\\n_______________________________________________\\n\\nRazor-users mailing list\\n\\nRazor-users@lists.sourceforge.net\\n\\nhttps://lists.sourceforge.net/lists/listinfo/razor-users\\n\\n\\n\\n\\n\\n\\n\\n\\n\\n-------------------------------------------------------\\n\\nThis sf.net email is sponsored by: OSDN - Tired of that same old\\n\\ncell phone?  Get a new here for FREE!\\n\\nhttps://www.inphonic.com/r.asp?r=sourceforge1&refcode1=vs3390\\n\\n_______________________________________________\\n\\nRazor-users mailing list\\n\\nRazor-users@lists.sourceforge.net\\n\\nhttps://lists.sourceforge.net/lists/listinfo/razor-users\\n\\n\\n'"
            ],
            "application/vnd.google.colaboratory.intrinsic+json": {
              "type": "string"
            }
          },
          "metadata": {},
          "execution_count": 9
        }
      ]
    },
    {
      "cell_type": "code",
      "source": [
        "data.iloc[2]['class']       # corresponding label "
      ],
      "metadata": {
        "colab": {
          "base_uri": "https://localhost:8080/",
          "height": 37
        },
        "id": "Mdk01U5jtykI",
        "outputId": "8ba5182c-4cbd-4dad-8abc-90a274ee2242"
      },
      "execution_count": null,
      "outputs": [
        {
          "output_type": "execute_result",
          "data": {
            "text/plain": [
              "'ham'"
            ],
            "application/vnd.google.colaboratory.intrinsic+json": {
              "type": "string"
            }
          },
          "metadata": {},
          "execution_count": 10
        }
      ]
    },
    {
      "cell_type": "code",
      "source": [
        "import re                                           # Python has a module named re to work with Regular Expressions\n",
        "from string import punctuation                      # Gives us a collection of all the punctuations\n",
        "from nltk.stem.snowball import SnowballStemmer      # For the purpose of word stemming"
      ],
      "metadata": {
        "id": "JhMu2tdNZhKP"
      },
      "execution_count": null,
      "outputs": []
    },
    {
      "cell_type": "code",
      "source": [
        "# vocabulary.txt stores the most frequently occurring words in our dataset\n",
        "# this function reads all the words from vocabulary.txt and creates a dictionary\n",
        "def vocabulary_dictionary():\n",
        "    with open('vocabulary.txt', 'r') as vocabulary:\n",
        "        # vocab_dict contains all the words\n",
        "        vocab_dict = {}\n",
        "        for line in vocabulary.readlines():\n",
        "            index, word = line.split()\n",
        "            vocab_dict[word] = int(index)\n",
        "\n",
        "    return vocab_dict"
      ],
      "metadata": {
        "id": "duzxz9Jb_0nb"
      },
      "execution_count": null,
      "outputs": []
    },
    {
      "cell_type": "code",
      "source": [
        "vocab = vocabulary_dictionary()\n",
        "print(vocab)"
      ],
      "metadata": {
        "colab": {
          "base_uri": "https://localhost:8080/"
        },
        "id": "Nh8bC5Ci_3Er",
        "outputId": "1fc64995-6180-41be-d7b5-a11855ffb93d"
      },
      "execution_count": null,
      "outputs": [
        {
          "output_type": "stream",
          "name": "stdout",
          "text": [
            "{'aa': 1, 'ab': 2, 'abil': 3, 'abl': 4, 'about': 5, 'abov': 6, 'absolut': 7, 'abus': 8, 'ac': 9, 'accept': 10, 'access': 11, 'accord': 12, 'account': 13, 'achiev': 14, 'acquir': 15, 'across': 16, 'act': 17, 'action': 18, 'activ': 19, 'actual': 20, 'ad': 21, 'adam': 22, 'add': 23, 'addit': 24, 'address': 25, 'administr': 26, 'adult': 27, 'advanc': 28, 'advantag': 29, 'advertis': 30, 'advic': 31, 'advis': 32, 'ae': 33, 'af': 34, 'affect': 35, 'affili': 36, 'afford': 37, 'africa': 38, 'after': 39, 'ag': 40, 'again': 41, 'against': 42, 'agenc': 43, 'agent': 44, 'ago': 45, 'agre': 46, 'agreement': 47, 'aid': 48, 'air': 49, 'al': 50, 'alb': 51, 'align': 52, 'all': 53, 'allow': 54, 'almost': 55, 'alon': 56, 'along': 57, 'alreadi': 58, 'alsa': 59, 'also': 60, 'altern': 61, 'although': 62, 'alwai': 63, 'am': 64, 'amaz': 65, 'america': 66, 'american': 67, 'among': 68, 'amount': 69, 'amp': 70, 'an': 71, 'analysi': 72, 'analyst': 73, 'and': 74, 'ani': 75, 'anim': 76, 'announc': 77, 'annual': 78, 'annuiti': 79, 'anoth': 80, 'answer': 81, 'anti': 82, 'anumb': 83, 'anybodi': 84, 'anymor': 85, 'anyon': 86, 'anyth': 87, 'anywai': 88, 'anywher': 89, 'aol': 90, 'ap': 91, 'apolog': 92, 'app': 93, 'appar': 94, 'appear': 95, 'appl': 96, 'appli': 97, 'applic': 98, 'appreci': 99, 'approach': 100, 'approv': 101, 'apt': 102, 'ar': 103, 'archiv': 104, 'area': 105, 'aren': 106, 'argument': 107, 'arial': 108, 'arm': 109, 'around': 110, 'arrai': 111, 'arriv': 112, 'art': 113, 'articl': 114, 'artist': 115, 'as': 116, 'ascii': 117, 'ask': 118, 'asset': 119, 'assist': 120, 'associ': 121, 'assum': 122, 'assur': 123, 'at': 124, 'atol': 125, 'attach': 126, 'attack': 127, 'attempt': 128, 'attent': 129, 'attornei': 130, 'attract': 131, 'audio': 132, 'aug': 133, 'august': 134, 'author': 135, 'auto': 136, 'autom': 137, 'automat': 138, 'avail': 139, 'averag': 140, 'avoid': 141, 'awai': 142, 'awar': 143, 'award': 144, 'ba': 145, 'babi': 146, 'back': 147, 'background': 148, 'backup': 149, 'bad': 150, 'balanc': 151, 'ban': 152, 'bank': 153, 'bar': 154, 'base': 155, 'basenumb': 156, 'basi': 157, 'basic': 158, 'bb': 159, 'bc': 160, 'bd': 161, 'be': 162, 'beat': 163, 'beberg': 164, 'becaus': 165, 'becom': 166, 'been': 167, 'befor': 168, 'begin': 169, 'behalf': 170, 'behavior': 171, 'behind': 172, 'believ': 173, 'below': 174, 'benefit': 175, 'best': 176, 'beta': 177, 'better': 178, 'between': 179, 'bf': 180, 'big': 181, 'bill': 182, 'billion': 183, 'bin': 184, 'binari': 185, 'bit': 186, 'black': 187, 'blank': 188, 'block': 189, 'blog': 190, 'blood': 191, 'blue': 192, 'bnumber': 193, 'board': 194, 'bodi': 195, 'boi': 196, 'bonu': 197, 'book': 198, 'boot': 199, 'border': 200, 'boss': 201, 'boston': 202, 'botan': 203, 'both': 204, 'bottl': 205, 'bottom': 206, 'boundari': 207, 'box': 208, 'brain': 209, 'brand': 210, 'break': 211, 'brian': 212, 'bring': 213, 'broadcast': 214, 'broker': 215, 'browser': 216, 'bug': 217, 'bui': 218, 'build': 219, 'built': 220, 'bulk': 221, 'burn': 222, 'bush': 223, 'busi': 224, 'but': 225, 'button': 226, 'by': 227, 'byte': 228, 'ca': 229, 'cabl': 230, 'cach': 231, 'calcul': 232, 'california': 233, 'call': 234, 'came': 235, 'camera': 236, 'campaign': 237, 'can': 238, 'canada': 239, 'cannot': 240, 'canon': 241, 'capabl': 242, 'capillari': 243, 'capit': 244, 'car': 245, 'card': 246, 'care': 247, 'career': 248, 'carri': 249, 'cartridg': 250, 'case': 251, 'cash': 252, 'cat': 253, 'catch': 254, 'categori': 255, 'caus': 256, 'cb': 257, 'cc': 258, 'cd': 259, 'ce': 260, 'cell': 261, 'cent': 262, 'center': 263, 'central': 264, 'centuri': 265, 'ceo': 266, 'certain': 267, 'certainli': 268, 'cf': 269, 'challeng': 270, 'chanc': 271, 'chang': 272, 'channel': 273, 'char': 274, 'charact': 275, 'charg': 276, 'charset': 277, 'chat': 278, 'cheap': 279, 'check': 280, 'cheer': 281, 'chief': 282, 'children': 283, 'china': 284, 'chip': 285, 'choic': 286, 'choos': 287, 'chri': 288, 'citi': 289, 'citizen': 290, 'civil': 291, 'claim': 292, 'class': 293, 'classifi': 294, 'clean': 295, 'clear': 296, 'clearli': 297, 'click': 298, 'client': 299, 'close': 300, 'clue': 301, 'cnet': 302, 'cnumber': 303, 'co': 304, 'code': 305, 'collect': 306, 'colleg': 307, 'color': 308, 'com': 309, 'combin': 310, 'come': 311, 'comfort': 312, 'command': 313, 'comment': 314, 'commentari': 315, 'commerci': 316, 'commiss': 317, 'commit': 318, 'common': 319, 'commun': 320, 'compani': 321, 'compar': 322, 'comparison': 323, 'compat': 324, 'compet': 325, 'competit': 326, 'compil': 327, 'complet': 328, 'comprehens': 329, 'comput': 330, 'concentr': 331, 'concept': 332, 'concern': 333, 'condit': 334, 'conf': 335, 'confer': 336, 'confid': 337, 'confidenti': 338, 'config': 339, 'configur': 340, 'confirm': 341, 'conflict': 342, 'confus': 343, 'congress': 344, 'connect': 345, 'consid': 346, 'consolid': 347, 'constitut': 348, 'construct': 349, 'consult': 350, 'consum': 351, 'contact': 352, 'contain': 353, 'content': 354, 'continu': 355, 'contract': 356, 'contribut': 357, 'control': 358, 'conveni': 359, 'convers': 360, 'convert': 361, 'cool': 362, 'cooper': 363, 'copi': 364, 'copyright': 365, 'core': 366, 'corpor': 367, 'correct': 368, 'correspond': 369, 'cost': 370, 'could': 371, 'couldn': 372, 'count': 373, 'countri': 374, 'coupl': 375, 'cours': 376, 'court': 377, 'cover': 378, 'coverag': 379, 'crash': 380, 'creat': 381, 'creativ': 382, 'credit': 383, 'critic': 384, 'cross': 385, 'cultur': 386, 'current': 387, 'custom': 388, 'cut': 389, 'cv': 390, 'da': 391, 'dagga': 392, 'dai': 393, 'daili': 394, 'dan': 395, 'danger': 396, 'dark': 397, 'data': 398, 'databas': 399, 'datapow': 400, 'date': 401, 'dave': 402, 'david': 403, 'dc': 404, 'de': 405, 'dead': 406, 'deal': 407, 'dear': 408, 'death': 409, 'debt': 410, 'decad': 411, 'decid': 412, 'decis': 413, 'declar': 414, 'declin': 415, 'decor': 416, 'default': 417, 'defend': 418, 'defens': 419, 'defin': 420, 'definit': 421, 'degre': 422, 'delai': 423, 'delet': 424, 'deliv': 425, 'deliveri': 426, 'dell': 427, 'demand': 428, 'democrat': 429, 'depart': 430, 'depend': 431, 'deposit': 432, 'describ': 433, 'descript': 434, 'deserv': 435, 'design': 436, 'desir': 437, 'desktop': 438, 'despit': 439, 'detail': 440, 'detect': 441, 'determin': 442, 'dev': 443, 'devel': 444, 'develop': 445, 'devic': 446, 'di': 447, 'dial': 448, 'did': 449, 'didn': 450, 'diet': 451, 'differ': 452, 'difficult': 453, 'digit': 454, 'direct': 455, 'directli': 456, 'director': 457, 'directori': 458, 'disabl': 459, 'discount': 460, 'discov': 461, 'discoveri': 462, 'discuss': 463, 'disk': 464, 'displai': 465, 'disposit': 466, 'distanc': 467, 'distribut': 468, 'dn': 469, 'dnumber': 470, 'do': 471, 'doc': 472, 'document': 473, 'doe': 474, 'doer': 475, 'doesn': 476, 'dollar': 477, 'dollarac': 478, 'dollarnumb': 479, 'domain': 480, 'don': 481, 'done': 482, 'dont': 483, 'doubl': 484, 'doubt': 485, 'down': 486, 'download': 487, 'dr': 488, 'draw': 489, 'dream': 490, 'drive': 491, 'driver': 492, 'drop': 493, 'drug': 494, 'due': 495, 'dure': 496, 'dvd': 497, 'dw': 498, 'dynam': 499, 'ea': 500, 'each': 501, 'earli': 502, 'earlier': 503, 'earn': 504, 'earth': 505, 'easi': 506, 'easier': 507, 'easili': 508, 'eat': 509, 'eb': 510, 'ebai': 511, 'ec': 512, 'echo': 513, 'econom': 514, 'economi': 515, 'ed': 516, 'edg': 517, 'edit': 518, 'editor': 519, 'educ': 520, 'eff': 521, 'effect': 522, 'effici': 523, 'effort': 524, 'either': 525, 'el': 526, 'electron': 527, 'elimin': 528, 'els': 529, 'email': 530, 'emailaddr': 531, 'emerg': 532, 'empir': 533, 'employ': 534, 'employe': 535, 'en': 536, 'enabl': 537, 'encod': 538, 'encourag': 539, 'end': 540, 'enemi': 541, 'enenkio': 542, 'energi': 543, 'engin': 544, 'english': 545, 'enhanc': 546, 'enjoi': 547, 'enough': 548, 'ensur': 549, 'enter': 550, 'enterpris': 551, 'entertain': 552, 'entir': 553, 'entri': 554, 'enumb': 555, 'environ': 556, 'equal': 557, 'equip': 558, 'equival': 559, 'error': 560, 'especi': 561, 'essenti': 562, 'establish': 563, 'estat': 564, 'estim': 565, 'et': 566, 'etc': 567, 'euro': 568, 'europ': 569, 'european': 570, 'even': 571, 'event': 572, 'eventu': 573, 'ever': 574, 'everi': 575, 'everyon': 576, 'everyth': 577, 'evid': 578, 'evil': 579, 'exactli': 580, 'exampl': 581, 'excel': 582, 'except': 583, 'exchang': 584, 'excit': 585, 'exclus': 586, 'execut': 587, 'exercis': 588, 'exist': 589, 'exmh': 590, 'expand': 591, 'expect': 592, 'expens': 593, 'experi': 594, 'expert': 595, 'expir': 596, 'explain': 597, 'explor': 598, 'express': 599, 'extend': 600, 'extens': 601, 'extra': 602, 'extract': 603, 'extrem': 604, 'ey': 605, 'fa': 606, 'face': 607, 'fact': 608, 'factor': 609, 'fail': 610, 'fair': 611, 'fall': 612, 'fals': 613, 'famili': 614, 'faq': 615, 'far': 616, 'fast': 617, 'faster': 618, 'fastest': 619, 'fat': 620, 'father': 621, 'favorit': 622, 'fax': 623, 'fb': 624, 'fd': 625, 'featur': 626, 'feder': 627, 'fee': 628, 'feed': 629, 'feedback': 630, 'feel': 631, 'femal': 632, 'few': 633, 'ffffff': 634, 'ffnumber': 635, 'field': 636, 'fight': 637, 'figur': 638, 'file': 639, 'fill': 640, 'film': 641, 'filter': 642, 'final': 643, 'financ': 644, 'financi': 645, 'find': 646, 'fine': 647, 'finish': 648, 'fire': 649, 'firewal': 650, 'firm': 651, 'first': 652, 'fit': 653, 'five': 654, 'fix': 655, 'flag': 656, 'flash': 657, 'flow': 658, 'fnumber': 659, 'focu': 660, 'folder': 661, 'folk': 662, 'follow': 663, 'font': 664, 'food': 665, 'for': 666, 'forc': 667, 'foreign': 668, 'forev': 669, 'forget': 670, 'fork': 671, 'form': 672, 'format': 673, 'former': 674, 'fortun': 675, 'forward': 676, 'found': 677, 'foundat': 678, 'four': 679, 'franc': 680, 'free': 681, 'freedom': 682, 'french': 683, 'freshrpm': 684, 'fri': 685, 'fridai': 686, 'friend': 687, 'from': 688, 'front': 689, 'ftoc': 690, 'ftp': 691, 'full': 692, 'fulli': 693, 'fun': 694, 'function': 695, 'fund': 696, 'further': 697, 'futur': 698, 'ga': 699, 'gain': 700, 'game': 701, 'gari': 702, 'garrigu': 703, 'gave': 704, 'gcc': 705, 'geek': 706, 'gener': 707, 'get': 708, 'gif': 709, 'gift': 710, 'girl': 711, 'give': 712, 'given': 713, 'global': 714, 'gnome': 715, 'gnu': 716, 'gnupg': 717, 'go': 718, 'goal': 719, 'god': 720, 'goe': 721, 'gold': 722, 'gone': 723, 'good': 724, 'googl': 725, 'got': 726, 'govern': 727, 'gpl': 728, 'grand': 729, 'grant': 730, 'graphic': 731, 'great': 732, 'greater': 733, 'ground': 734, 'group': 735, 'grow': 736, 'growth': 737, 'gt': 738, 'guarante': 739, 'guess': 740, 'gui': 741, 'guid': 742, 'ha': 743, 'hack': 744, 'had': 745, 'half': 746, 'ham': 747, 'hand': 748, 'handl': 749, 'happen': 750, 'happi': 751, 'hard': 752, 'hardwar': 753, 'hat': 754, 'hate': 755, 'have': 756, 'haven': 757, 'he': 758, 'head': 759, 'header': 760, 'headlin': 761, 'health': 762, 'hear': 763, 'heard': 764, 'heart': 765, 'heaven': 766, 'hei': 767, 'height': 768, 'held': 769, 'hello': 770, 'help': 771, 'helvetica': 772, 'her': 773, 'herba': 774, 'here': 775, 'hermio': 776, 'hettinga': 777, 'hi': 778, 'high': 779, 'higher': 780, 'highli': 781, 'highlight': 782, 'him': 783, 'histori': 784, 'hit': 785, 'hold': 786, 'home': 787, 'honor': 788, 'hope': 789, 'host': 790, 'hot': 791, 'hour': 792, 'hous': 793, 'how': 794, 'howev': 795, 'hp': 796, 'html': 797, 'http': 798, 'httpaddr': 799, 'huge': 800, 'human': 801, 'hundr': 802, 'ibm': 803, 'id': 804, 'idea': 805, 'ident': 806, 'identifi': 807, 'idnumb': 808, 'ie': 809, 'if': 810, 'ignor': 811, 'ii': 812, 'iii': 813, 'iiiiiiihnumberjnumberhnumberjnumberhnumb': 814, 'illeg': 815, 'im': 816, 'imag': 817, 'imagin': 818, 'immedi': 819, 'impact': 820, 'implement': 821, 'import': 822, 'impress': 823, 'improv': 824, 'in': 825, 'inc': 826, 'includ': 827, 'incom': 828, 'increas': 829, 'incred': 830, 'inde': 831, 'independ': 832, 'index': 833, 'india': 834, 'indian': 835, 'indic': 836, 'individu': 837, 'industri': 838, 'info': 839, 'inform': 840, 'initi': 841, 'inlin': 842, 'innov': 843, 'input': 844, 'insert': 845, 'insid': 846, 'instal': 847, 'instanc': 848, 'instant': 849, 'instead': 850, 'institut': 851, 'instruct': 852, 'insur': 853, 'int': 854, 'integr': 855, 'intel': 856, 'intellig': 857, 'intend': 858, 'interact': 859, 'interest': 860, 'interfac': 861, 'intern': 862, 'internet': 863, 'interview': 864, 'into': 865, 'intro': 866, 'introduc': 867, 'inumb': 868, 'invest': 869, 'investig': 870, 'investor': 871, 'invok': 872, 'involv': 873, 'ip': 874, 'ireland': 875, 'irish': 876, 'is': 877, 'island': 878, 'isn': 879, 'iso': 880, 'isp': 881, 'issu': 882, 'it': 883, 'item': 884, 'itself': 885, 'jabber': 886, 'jame': 887, 'java': 888, 'jim': 889, 'jnumberiiiiiiihepihepihf': 890, 'job': 891, 'joe': 892, 'john': 893, 'join': 894, 'journal': 895, 'judg': 896, 'judgment': 897, 'jul': 898, 'juli': 899, 'jump': 900, 'june': 901, 'just': 902, 'justin': 903, 'keep': 904, 'kei': 905, 'kept': 906, 'kernel': 907, 'kevin': 908, 'keyboard': 909, 'kid': 910, 'kill': 911, 'kind': 912, 'king': 913, 'kingdom': 914, 'knew': 915, 'know': 916, 'knowledg': 917, 'known': 918, 'la': 919, 'lack': 920, 'land': 921, 'languag': 922, 'laptop': 923, 'larg': 924, 'larger': 925, 'largest': 926, 'laser': 927, 'last': 928, 'late': 929, 'later': 930, 'latest': 931, 'launch': 932, 'law': 933, 'lawrenc': 934, 'le': 935, 'lead': 936, 'leader': 937, 'learn': 938, 'least': 939, 'leav': 940, 'left': 941, 'legal': 942, 'lender': 943, 'length': 944, 'less': 945, 'lesson': 946, 'let': 947, 'letter': 948, 'level': 949, 'lib': 950, 'librari': 951, 'licens': 952, 'life': 953, 'lifetim': 954, 'light': 955, 'like': 956, 'limit': 957, 'line': 958, 'link': 959, 'linux': 960, 'list': 961, 'listen': 962, 'littl': 963, 'live': 964, 'll': 965, 'lo': 966, 'load': 967, 'loan': 968, 'local': 969, 'locat': 970, 'lock': 971, 'lockergnom': 972, 'log': 973, 'long': 974, 'longer': 975, 'look': 976, 'lose': 977, 'loss': 978, 'lost': 979, 'lot': 980, 'love': 981, 'low': 982, 'lower': 983, 'lowest': 984, 'lt': 985, 'ma': 986, 'mac': 987, 'machin': 988, 'made': 989, 'magazin': 990, 'mai': 991, 'mail': 992, 'mailer': 993, 'main': 994, 'maintain': 995, 'major': 996, 'make': 997, 'maker': 998, 'male': 999, 'man': 1000, 'manag': 1001, 'mani': 1002, 'manual': 1003, 'manufactur': 1004, 'map': 1005, 'march': 1006, 'margin': 1007, 'mark': 1008, 'market': 1009, 'marshal': 1010, 'mass': 1011, 'master': 1012, 'match': 1013, 'materi': 1014, 'matter': 1015, 'matthia': 1016, 'mayb': 1017, 'me': 1018, 'mean': 1019, 'measur': 1020, 'mechan': 1021, 'media': 1022, 'medic': 1023, 'meet': 1024, 'member': 1025, 'membership': 1026, 'memori': 1027, 'men': 1028, 'mention': 1029, 'menu': 1030, 'merchant': 1031, 'messag': 1032, 'method': 1033, 'mh': 1034, 'michael': 1035, 'microsoft': 1036, 'middl': 1037, 'might': 1038, 'mike': 1039, 'mile': 1040, 'militari': 1041, 'million': 1042, 'mime': 1043, 'mind': 1044, 'mine': 1045, 'mini': 1046, 'minimum': 1047, 'minut': 1048, 'miss': 1049, 'mistak': 1050, 'mobil': 1051, 'mode': 1052, 'model': 1053, 'modem': 1054, 'modifi': 1055, 'modul': 1056, 'moment': 1057, 'mon': 1058, 'mondai': 1059, 'monei': 1060, 'monitor': 1061, 'month': 1062, 'monthli': 1063, 'more': 1064, 'morn': 1065, 'mortgag': 1066, 'most': 1067, 'mostli': 1068, 'mother': 1069, 'motiv': 1070, 'move': 1071, 'movi': 1072, 'mpnumber': 1073, 'mr': 1074, 'ms': 1075, 'msg': 1076, 'much': 1077, 'multi': 1078, 'multipart': 1079, 'multipl': 1080, 'murphi': 1081, 'music': 1082, 'must': 1083, 'my': 1084, 'myself': 1085, 'name': 1086, 'nation': 1087, 'natur': 1088, 'nbsp': 1089, 'near': 1090, 'nearli': 1091, 'necessari': 1092, 'need': 1093, 'neg': 1094, 'net': 1095, 'netscap': 1096, 'network': 1097, 'never': 1098, 'new': 1099, 'newslett': 1100, 'next': 1101, 'nextpart': 1102, 'nice': 1103, 'nigeria': 1104, 'night': 1105, 'no': 1106, 'nobodi': 1107, 'non': 1108, 'none': 1109, 'nor': 1110, 'normal': 1111, 'north': 1112, 'not': 1113, 'note': 1114, 'noth': 1115, 'notic': 1116, 'now': 1117, 'nt': 1118, 'null': 1119, 'number': 1120, 'numbera': 1121, 'numberam': 1122, 'numberanumb': 1123, 'numberb': 1124, 'numberbit': 1125, 'numberc': 1126, 'numbercb': 1127, 'numbercbr': 1128, 'numbercfont': 1129, 'numbercli': 1130, 'numbercnumb': 1131, 'numbercp': 1132, 'numberctd': 1133, 'numberd': 1134, 'numberdari': 1135, 'numberdnumb': 1136, 'numberenumb': 1137, 'numberf': 1138, 'numberfb': 1139, 'numberff': 1140, 'numberffont': 1141, 'numberfp': 1142, 'numberftd': 1143, 'numberk': 1144, 'numberm': 1145, 'numbermb': 1146, 'numberp': 1147, 'numberpd': 1148, 'numberpm': 1149, 'numberpx': 1150, 'numberst': 1151, 'numberth': 1152, 'numbertnumb': 1153, 'numberx': 1154, 'object': 1155, 'oblig': 1156, 'obtain': 1157, 'obvious': 1158, 'occur': 1159, 'oct': 1160, 'octob': 1161, 'of': 1162, 'off': 1163, 'offer': 1164, 'offic': 1165, 'offici': 1166, 'often': 1167, 'oh': 1168, 'ok': 1169, 'old': 1170, 'on': 1171, 'onc': 1172, 'onli': 1173, 'onlin': 1174, 'open': 1175, 'oper': 1176, 'opinion': 1177, 'opportun': 1178, 'opt': 1179, 'optim': 1180, 'option': 1181, 'or': 1182, 'order': 1183, 'org': 1184, 'organ': 1185, 'origin': 1186, 'os': 1187, 'osdn': 1188, 'other': 1189, 'otherwis': 1190, 'our': 1191, 'out': 1192, 'outlook': 1193, 'output': 1194, 'outsid': 1195, 'over': 1196, 'own': 1197, 'owner': 1198, 'oz': 1199, 'pacif': 1200, 'pack': 1201, 'packag': 1202, 'page': 1203, 'pai': 1204, 'paid': 1205, 'pain': 1206, 'palm': 1207, 'panel': 1208, 'paper': 1209, 'paragraph': 1210, 'parent': 1211, 'part': 1212, 'parti': 1213, 'particip': 1214, 'particular': 1215, 'particularli': 1216, 'partit': 1217, 'partner': 1218, 'pass': 1219, 'password': 1220, 'past': 1221, 'patch': 1222, 'patent': 1223, 'path': 1224, 'pattern': 1225, 'paul': 1226, 'payment': 1227, 'pc': 1228, 'peac': 1229, 'peopl': 1230, 'per': 1231, 'percent': 1232, 'percentag': 1233, 'perfect': 1234, 'perfectli': 1235, 'perform': 1236, 'perhap': 1237, 'period': 1238, 'perl': 1239, 'perman': 1240, 'permiss': 1241, 'person': 1242, 'pgp': 1243, 'phone': 1244, 'photo': 1245, 'php': 1246, 'phrase': 1247, 'physic': 1248, 'pick': 1249, 'pictur': 1250, 'piec': 1251, 'piiiiiiii': 1252, 'pipe': 1253, 'pjnumber': 1254, 'place': 1255, 'plai': 1256, 'plain': 1257, 'plan': 1258, 'planet': 1259, 'plant': 1260, 'planta': 1261, 'platform': 1262, 'player': 1263, 'pleas': 1264, 'plu': 1265, 'plug': 1266, 'pm': 1267, 'pocket': 1268, 'point': 1269, 'polic': 1270, 'polici': 1271, 'polit': 1272, 'poor': 1273, 'pop': 1274, 'popul': 1275, 'popular': 1276, 'port': 1277, 'posit': 1278, 'possibl': 1279, 'post': 1280, 'potenti': 1281, 'pound': 1282, 'powel': 1283, 'power': 1284, 'powershot': 1285, 'practic': 1286, 'pre': 1287, 'predict': 1288, 'prefer': 1289, 'premium': 1290, 'prepar': 1291, 'present': 1292, 'presid': 1293, 'press': 1294, 'pretti': 1295, 'prevent': 1296, 'previou': 1297, 'previous': 1298, 'price': 1299, 'principl': 1300, 'print': 1301, 'printabl': 1302, 'printer': 1303, 'privaci': 1304, 'privat': 1305, 'prize': 1306, 'pro': 1307, 'probabl': 1308, 'problem': 1309, 'procedur': 1310, 'process': 1311, 'processor': 1312, 'procmail': 1313, 'produc': 1314, 'product': 1315, 'profession': 1316, 'profil': 1317, 'profit': 1318, 'program': 1319, 'programm': 1320, 'progress': 1321, 'project': 1322, 'promis': 1323, 'promot': 1324, 'prompt': 1325, 'properti': 1326, 'propos': 1327, 'proprietari': 1328, 'prospect': 1329, 'protect': 1330, 'protocol': 1331, 'prove': 1332, 'proven': 1333, 'provid': 1334, 'proxi': 1335, 'pub': 1336, 'public': 1337, 'publish': 1338, 'pudg': 1339, 'pull': 1340, 'purchas': 1341, 'purpos': 1342, 'put': 1343, 'python': 1344, 'qnumber': 1345, 'qualifi': 1346, 'qualiti': 1347, 'quarter': 1348, 'question': 1349, 'quick': 1350, 'quickli': 1351, 'quit': 1352, 'quot': 1353, 'radio': 1354, 'ragga': 1355, 'rais': 1356, 'random': 1357, 'rang': 1358, 'rate': 1359, 'rather': 1360, 'ratio': 1361, 'razor': 1362, 'razornumb': 1363, 're': 1364, 'reach': 1365, 'read': 1366, 'reader': 1367, 'readi': 1368, 'real': 1369, 'realiz': 1370, 'realli': 1371, 'reason': 1372, 'receiv': 1373, 'recent': 1374, 'recipi': 1375, 'recommend': 1376, 'record': 1377, 'red': 1378, 'redhat': 1379, 'reduc': 1380, 'refer': 1381, 'refin': 1382, 'reg': 1383, 'regard': 1384, 'region': 1385, 'regist': 1386, 'regul': 1387, 'regular': 1388, 'rel': 1389, 'relat': 1390, 'relationship': 1391, 'releas': 1392, 'relev': 1393, 'reliabl': 1394, 'remain': 1395, 'rememb': 1396, 'remot': 1397, 'remov': 1398, 'replac': 1399, 'repli': 1400, 'report': 1401, 'repositori': 1402, 'repres': 1403, 'republ': 1404, 'request': 1405, 'requir': 1406, 'research': 1407, 'reserv': 1408, 'resid': 1409, 'resourc': 1410, 'respect': 1411, 'respond': 1412, 'respons': 1413, 'rest': 1414, 'result': 1415, 'retail': 1416, 'return': 1417, 'reveal': 1418, 'revenu': 1419, 'revers': 1420, 'review': 1421, 'revok': 1422, 'rh': 1423, 'rich': 1424, 'right': 1425, 'risk': 1426, 'road': 1427, 'robert': 1428, 'rock': 1429, 'role': 1430, 'roll': 1431, 'rom': 1432, 'roman': 1433, 'room': 1434, 'root': 1435, 'round': 1436, 'rpm': 1437, 'rss': 1438, 'rule': 1439, 'run': 1440, 'sa': 1441, 'safe': 1442, 'sai': 1443, 'said': 1444, 'sale': 1445, 'same': 1446, 'sampl': 1447, 'san': 1448, 'saou': 1449, 'sat': 1450, 'satellit': 1451, 'save': 1452, 'saw': 1453, 'scan': 1454, 'schedul': 1455, 'school': 1456, 'scienc': 1457, 'score': 1458, 'screen': 1459, 'script': 1460, 'se': 1461, 'search': 1462, 'season': 1463, 'second': 1464, 'secret': 1465, 'section': 1466, 'secur': 1467, 'see': 1468, 'seed': 1469, 'seek': 1470, 'seem': 1471, 'seen': 1472, 'select': 1473, 'self': 1474, 'sell': 1475, 'seminar': 1476, 'send': 1477, 'sender': 1478, 'sendmail': 1479, 'senior': 1480, 'sens': 1481, 'sensit': 1482, 'sent': 1483, 'sep': 1484, 'separ': 1485, 'septemb': 1486, 'sequenc': 1487, 'seri': 1488, 'serif': 1489, 'seriou': 1490, 'serv': 1491, 'server': 1492, 'servic': 1493, 'set': 1494, 'setup': 1495, 'seven': 1496, 'seventh': 1497, 'sever': 1498, 'sex': 1499, 'sexual': 1500, 'sf': 1501, 'shape': 1502, 'share': 1503, 'she': 1504, 'shell': 1505, 'ship': 1506, 'shop': 1507, 'short': 1508, 'shot': 1509, 'should': 1510, 'show': 1511, 'side': 1512, 'sign': 1513, 'signatur': 1514, 'signific': 1515, 'similar': 1516, 'simpl': 1517, 'simpli': 1518, 'sinc': 1519, 'sincer': 1520, 'singl': 1521, 'sit': 1522, 'site': 1523, 'situat': 1524, 'six': 1525, 'size': 1526, 'skeptic': 1527, 'skill': 1528, 'skin': 1529, 'skip': 1530, 'sleep': 1531, 'slow': 1532, 'small': 1533, 'smart': 1534, 'smoke': 1535, 'smtp': 1536, 'snumber': 1537, 'so': 1538, 'social': 1539, 'societi': 1540, 'softwar': 1541, 'sold': 1542, 'solut': 1543, 'solv': 1544, 'some': 1545, 'someon': 1546, 'someth': 1547, 'sometim': 1548, 'son': 1549, 'song': 1550, 'soni': 1551, 'soon': 1552, 'sorri': 1553, 'sort': 1554, 'sound': 1555, 'sourc': 1556, 'south': 1557, 'space': 1558, 'spain': 1559, 'spam': 1560, 'spamassassin': 1561, 'spamd': 1562, 'spammer': 1563, 'speak': 1564, 'spec': 1565, 'special': 1566, 'specif': 1567, 'specifi': 1568, 'speech': 1569, 'speed': 1570, 'spend': 1571, 'sponsor': 1572, 'sport': 1573, 'spot': 1574, 'src': 1575, 'ssh': 1576, 'st': 1577, 'stabl': 1578, 'staff': 1579, 'stai': 1580, 'stand': 1581, 'standard': 1582, 'star': 1583, 'start': 1584, 'state': 1585, 'statement': 1586, 'statu': 1587, 'step': 1588, 'steve': 1589, 'still': 1590, 'stock': 1591, 'stop': 1592, 'storag': 1593, 'store': 1594, 'stori': 1595, 'strategi': 1596, 'stream': 1597, 'street': 1598, 'string': 1599, 'strip': 1600, 'strong': 1601, 'structur': 1602, 'studi': 1603, 'stuff': 1604, 'stupid': 1605, 'style': 1606, 'subject': 1607, 'submit': 1608, 'subscrib': 1609, 'subscript': 1610, 'substanti': 1611, 'success': 1612, 'such': 1613, 'suffer': 1614, 'suggest': 1615, 'suit': 1616, 'sum': 1617, 'summari': 1618, 'summer': 1619, 'sun': 1620, 'super': 1621, 'suppli': 1622, 'support': 1623, 'suppos': 1624, 'sure': 1625, 'surpris': 1626, 'suse': 1627, 'suspect': 1628, 'sweet': 1629, 'switch': 1630, 'system': 1631, 'tab': 1632, 'tabl': 1633, 'tablet': 1634, 'tag': 1635, 'take': 1636, 'taken': 1637, 'talk': 1638, 'tape': 1639, 'target': 1640, 'task': 1641, 'tax': 1642, 'teach': 1643, 'team': 1644, 'tech': 1645, 'technic': 1646, 'techniqu': 1647, 'technolog': 1648, 'tel': 1649, 'telecom': 1650, 'telephon': 1651, 'tell': 1652, 'temperatur': 1653, 'templ': 1654, 'ten': 1655, 'term': 1656, 'termin': 1657, 'terror': 1658, 'terrorist': 1659, 'test': 1660, 'texa': 1661, 'text': 1662, 'than': 1663, 'thank': 1664, 'that': 1665, 'the': 1666, 'thei': 1667, 'their': 1668, 'them': 1669, 'themselv': 1670, 'then': 1671, 'theori': 1672, 'there': 1673, 'therefor': 1674, 'these': 1675, 'thi': 1676, 'thing': 1677, 'think': 1678, 'thinkgeek': 1679, 'third': 1680, 'those': 1681, 'though': 1682, 'thought': 1683, 'thousand': 1684, 'thread': 1685, 'threat': 1686, 'three': 1687, 'through': 1688, 'thu': 1689, 'thursdai': 1690, 'ti': 1691, 'ticket': 1692, 'tim': 1693, 'time': 1694, 'tip': 1695, 'tire': 1696, 'titl': 1697, 'tm': 1698, 'to': 1699, 'todai': 1700, 'togeth': 1701, 'token': 1702, 'told': 1703, 'toll': 1704, 'tom': 1705, 'toner': 1706, 'toni': 1707, 'too': 1708, 'took': 1709, 'tool': 1710, 'top': 1711, 'topic': 1712, 'total': 1713, 'touch': 1714, 'toward': 1715, 'track': 1716, 'trade': 1717, 'tradit': 1718, 'traffic': 1719, 'train': 1720, 'transact': 1721, 'transfer': 1722, 'travel': 1723, 'treat': 1724, 'tree': 1725, 'tri': 1726, 'trial': 1727, 'trick': 1728, 'trip': 1729, 'troubl': 1730, 'true': 1731, 'truli': 1732, 'trust': 1733, 'truth': 1734, 'try': 1735, 'tue': 1736, 'tuesdai': 1737, 'turn': 1738, 'tv': 1739, 'two': 1740, 'type': 1741, 'uk': 1742, 'ultim': 1743, 'un': 1744, 'under': 1745, 'understand': 1746, 'unfortun': 1747, 'uniqu': 1748, 'unison': 1749, 'unit': 1750, 'univers': 1751, 'unix': 1752, 'unless': 1753, 'unlik': 1754, 'unlimit': 1755, 'unseen': 1756, 'unsolicit': 1757, 'unsubscrib': 1758, 'until': 1759, 'up': 1760, 'updat': 1761, 'upgrad': 1762, 'upon': 1763, 'urgent': 1764, 'url': 1765, 'us': 1766, 'usa': 1767, 'usag': 1768, 'usb': 1769, 'usd': 1770, 'usdollarnumb': 1771, 'useless': 1772, 'user': 1773, 'usr': 1774, 'usual': 1775, 'util': 1776, 'vacat': 1777, 'valid': 1778, 'valu': 1779, 'valuabl': 1780, 'var': 1781, 'variabl': 1782, 'varieti': 1783, 'variou': 1784, 've': 1785, 'vendor': 1786, 'ventur': 1787, 'veri': 1788, 'verifi': 1789, 'version': 1790, 'via': 1791, 'video': 1792, 'view': 1793, 'virtual': 1794, 'visa': 1795, 'visit': 1796, 'visual': 1797, 'vnumber': 1798, 'voic': 1799, 'vote': 1800, 'vs': 1801, 'vulner': 1802, 'wa': 1803, 'wai': 1804, 'wait': 1805, 'wake': 1806, 'walk': 1807, 'wall': 1808, 'want': 1809, 'war': 1810, 'warm': 1811, 'warn': 1812, 'warranti': 1813, 'washington': 1814, 'wasn': 1815, 'wast': 1816, 'watch': 1817, 'water': 1818, 'we': 1819, 'wealth': 1820, 'weapon': 1821, 'web': 1822, 'weblog': 1823, 'websit': 1824, 'wed': 1825, 'wednesdai': 1826, 'week': 1827, 'weekli': 1828, 'weight': 1829, 'welcom': 1830, 'well': 1831, 'went': 1832, 'were': 1833, 'west': 1834, 'what': 1835, 'whatev': 1836, 'when': 1837, 'where': 1838, 'whether': 1839, 'which': 1840, 'while': 1841, 'white': 1842, 'whitelist': 1843, 'who': 1844, 'whole': 1845, 'whose': 1846, 'why': 1847, 'wi': 1848, 'wide': 1849, 'width': 1850, 'wife': 1851, 'will': 1852, 'william': 1853, 'win': 1854, 'window': 1855, 'wing': 1856, 'winner': 1857, 'wireless': 1858, 'wish': 1859, 'with': 1860, 'within': 1861, 'without': 1862, 'wnumberp': 1863, 'woman': 1864, 'women': 1865, 'won': 1866, 'wonder': 1867, 'word': 1868, 'work': 1869, 'worker': 1870, 'world': 1871, 'worldwid': 1872, 'worri': 1873, 'worst': 1874, 'worth': 1875, 'would': 1876, 'wouldn': 1877, 'write': 1878, 'written': 1879, 'wrong': 1880, 'wrote': 1881, 'www': 1882, 'ximian': 1883, 'xml': 1884, 'xp': 1885, 'yahoo': 1886, 'ye': 1887, 'yeah': 1888, 'year': 1889, 'yesterdai': 1890, 'yet': 1891, 'york': 1892, 'you': 1893, 'young': 1894, 'your': 1895, 'yourself': 1896, 'zdnet': 1897, 'zero': 1898, 'zip': 1899}\n"
          ]
        }
      ]
    },
    {
      "cell_type": "code",
      "source": [
        "print(vocab.keys())"
      ],
      "metadata": {
        "colab": {
          "base_uri": "https://localhost:8080/"
        },
        "id": "accLkxDbA2iE",
        "outputId": "b6e3a7b4-cea6-4a1b-e221-0f3700de6ace"
      },
      "execution_count": null,
      "outputs": [
        {
          "output_type": "stream",
          "name": "stdout",
          "text": [
            "dict_keys(['aa', 'ab', 'abil', 'abl', 'about', 'abov', 'absolut', 'abus', 'ac', 'accept', 'access', 'accord', 'account', 'achiev', 'acquir', 'across', 'act', 'action', 'activ', 'actual', 'ad', 'adam', 'add', 'addit', 'address', 'administr', 'adult', 'advanc', 'advantag', 'advertis', 'advic', 'advis', 'ae', 'af', 'affect', 'affili', 'afford', 'africa', 'after', 'ag', 'again', 'against', 'agenc', 'agent', 'ago', 'agre', 'agreement', 'aid', 'air', 'al', 'alb', 'align', 'all', 'allow', 'almost', 'alon', 'along', 'alreadi', 'alsa', 'also', 'altern', 'although', 'alwai', 'am', 'amaz', 'america', 'american', 'among', 'amount', 'amp', 'an', 'analysi', 'analyst', 'and', 'ani', 'anim', 'announc', 'annual', 'annuiti', 'anoth', 'answer', 'anti', 'anumb', 'anybodi', 'anymor', 'anyon', 'anyth', 'anywai', 'anywher', 'aol', 'ap', 'apolog', 'app', 'appar', 'appear', 'appl', 'appli', 'applic', 'appreci', 'approach', 'approv', 'apt', 'ar', 'archiv', 'area', 'aren', 'argument', 'arial', 'arm', 'around', 'arrai', 'arriv', 'art', 'articl', 'artist', 'as', 'ascii', 'ask', 'asset', 'assist', 'associ', 'assum', 'assur', 'at', 'atol', 'attach', 'attack', 'attempt', 'attent', 'attornei', 'attract', 'audio', 'aug', 'august', 'author', 'auto', 'autom', 'automat', 'avail', 'averag', 'avoid', 'awai', 'awar', 'award', 'ba', 'babi', 'back', 'background', 'backup', 'bad', 'balanc', 'ban', 'bank', 'bar', 'base', 'basenumb', 'basi', 'basic', 'bb', 'bc', 'bd', 'be', 'beat', 'beberg', 'becaus', 'becom', 'been', 'befor', 'begin', 'behalf', 'behavior', 'behind', 'believ', 'below', 'benefit', 'best', 'beta', 'better', 'between', 'bf', 'big', 'bill', 'billion', 'bin', 'binari', 'bit', 'black', 'blank', 'block', 'blog', 'blood', 'blue', 'bnumber', 'board', 'bodi', 'boi', 'bonu', 'book', 'boot', 'border', 'boss', 'boston', 'botan', 'both', 'bottl', 'bottom', 'boundari', 'box', 'brain', 'brand', 'break', 'brian', 'bring', 'broadcast', 'broker', 'browser', 'bug', 'bui', 'build', 'built', 'bulk', 'burn', 'bush', 'busi', 'but', 'button', 'by', 'byte', 'ca', 'cabl', 'cach', 'calcul', 'california', 'call', 'came', 'camera', 'campaign', 'can', 'canada', 'cannot', 'canon', 'capabl', 'capillari', 'capit', 'car', 'card', 'care', 'career', 'carri', 'cartridg', 'case', 'cash', 'cat', 'catch', 'categori', 'caus', 'cb', 'cc', 'cd', 'ce', 'cell', 'cent', 'center', 'central', 'centuri', 'ceo', 'certain', 'certainli', 'cf', 'challeng', 'chanc', 'chang', 'channel', 'char', 'charact', 'charg', 'charset', 'chat', 'cheap', 'check', 'cheer', 'chief', 'children', 'china', 'chip', 'choic', 'choos', 'chri', 'citi', 'citizen', 'civil', 'claim', 'class', 'classifi', 'clean', 'clear', 'clearli', 'click', 'client', 'close', 'clue', 'cnet', 'cnumber', 'co', 'code', 'collect', 'colleg', 'color', 'com', 'combin', 'come', 'comfort', 'command', 'comment', 'commentari', 'commerci', 'commiss', 'commit', 'common', 'commun', 'compani', 'compar', 'comparison', 'compat', 'compet', 'competit', 'compil', 'complet', 'comprehens', 'comput', 'concentr', 'concept', 'concern', 'condit', 'conf', 'confer', 'confid', 'confidenti', 'config', 'configur', 'confirm', 'conflict', 'confus', 'congress', 'connect', 'consid', 'consolid', 'constitut', 'construct', 'consult', 'consum', 'contact', 'contain', 'content', 'continu', 'contract', 'contribut', 'control', 'conveni', 'convers', 'convert', 'cool', 'cooper', 'copi', 'copyright', 'core', 'corpor', 'correct', 'correspond', 'cost', 'could', 'couldn', 'count', 'countri', 'coupl', 'cours', 'court', 'cover', 'coverag', 'crash', 'creat', 'creativ', 'credit', 'critic', 'cross', 'cultur', 'current', 'custom', 'cut', 'cv', 'da', 'dagga', 'dai', 'daili', 'dan', 'danger', 'dark', 'data', 'databas', 'datapow', 'date', 'dave', 'david', 'dc', 'de', 'dead', 'deal', 'dear', 'death', 'debt', 'decad', 'decid', 'decis', 'declar', 'declin', 'decor', 'default', 'defend', 'defens', 'defin', 'definit', 'degre', 'delai', 'delet', 'deliv', 'deliveri', 'dell', 'demand', 'democrat', 'depart', 'depend', 'deposit', 'describ', 'descript', 'deserv', 'design', 'desir', 'desktop', 'despit', 'detail', 'detect', 'determin', 'dev', 'devel', 'develop', 'devic', 'di', 'dial', 'did', 'didn', 'diet', 'differ', 'difficult', 'digit', 'direct', 'directli', 'director', 'directori', 'disabl', 'discount', 'discov', 'discoveri', 'discuss', 'disk', 'displai', 'disposit', 'distanc', 'distribut', 'dn', 'dnumber', 'do', 'doc', 'document', 'doe', 'doer', 'doesn', 'dollar', 'dollarac', 'dollarnumb', 'domain', 'don', 'done', 'dont', 'doubl', 'doubt', 'down', 'download', 'dr', 'draw', 'dream', 'drive', 'driver', 'drop', 'drug', 'due', 'dure', 'dvd', 'dw', 'dynam', 'ea', 'each', 'earli', 'earlier', 'earn', 'earth', 'easi', 'easier', 'easili', 'eat', 'eb', 'ebai', 'ec', 'echo', 'econom', 'economi', 'ed', 'edg', 'edit', 'editor', 'educ', 'eff', 'effect', 'effici', 'effort', 'either', 'el', 'electron', 'elimin', 'els', 'email', 'emailaddr', 'emerg', 'empir', 'employ', 'employe', 'en', 'enabl', 'encod', 'encourag', 'end', 'enemi', 'enenkio', 'energi', 'engin', 'english', 'enhanc', 'enjoi', 'enough', 'ensur', 'enter', 'enterpris', 'entertain', 'entir', 'entri', 'enumb', 'environ', 'equal', 'equip', 'equival', 'error', 'especi', 'essenti', 'establish', 'estat', 'estim', 'et', 'etc', 'euro', 'europ', 'european', 'even', 'event', 'eventu', 'ever', 'everi', 'everyon', 'everyth', 'evid', 'evil', 'exactli', 'exampl', 'excel', 'except', 'exchang', 'excit', 'exclus', 'execut', 'exercis', 'exist', 'exmh', 'expand', 'expect', 'expens', 'experi', 'expert', 'expir', 'explain', 'explor', 'express', 'extend', 'extens', 'extra', 'extract', 'extrem', 'ey', 'fa', 'face', 'fact', 'factor', 'fail', 'fair', 'fall', 'fals', 'famili', 'faq', 'far', 'fast', 'faster', 'fastest', 'fat', 'father', 'favorit', 'fax', 'fb', 'fd', 'featur', 'feder', 'fee', 'feed', 'feedback', 'feel', 'femal', 'few', 'ffffff', 'ffnumber', 'field', 'fight', 'figur', 'file', 'fill', 'film', 'filter', 'final', 'financ', 'financi', 'find', 'fine', 'finish', 'fire', 'firewal', 'firm', 'first', 'fit', 'five', 'fix', 'flag', 'flash', 'flow', 'fnumber', 'focu', 'folder', 'folk', 'follow', 'font', 'food', 'for', 'forc', 'foreign', 'forev', 'forget', 'fork', 'form', 'format', 'former', 'fortun', 'forward', 'found', 'foundat', 'four', 'franc', 'free', 'freedom', 'french', 'freshrpm', 'fri', 'fridai', 'friend', 'from', 'front', 'ftoc', 'ftp', 'full', 'fulli', 'fun', 'function', 'fund', 'further', 'futur', 'ga', 'gain', 'game', 'gari', 'garrigu', 'gave', 'gcc', 'geek', 'gener', 'get', 'gif', 'gift', 'girl', 'give', 'given', 'global', 'gnome', 'gnu', 'gnupg', 'go', 'goal', 'god', 'goe', 'gold', 'gone', 'good', 'googl', 'got', 'govern', 'gpl', 'grand', 'grant', 'graphic', 'great', 'greater', 'ground', 'group', 'grow', 'growth', 'gt', 'guarante', 'guess', 'gui', 'guid', 'ha', 'hack', 'had', 'half', 'ham', 'hand', 'handl', 'happen', 'happi', 'hard', 'hardwar', 'hat', 'hate', 'have', 'haven', 'he', 'head', 'header', 'headlin', 'health', 'hear', 'heard', 'heart', 'heaven', 'hei', 'height', 'held', 'hello', 'help', 'helvetica', 'her', 'herba', 'here', 'hermio', 'hettinga', 'hi', 'high', 'higher', 'highli', 'highlight', 'him', 'histori', 'hit', 'hold', 'home', 'honor', 'hope', 'host', 'hot', 'hour', 'hous', 'how', 'howev', 'hp', 'html', 'http', 'httpaddr', 'huge', 'human', 'hundr', 'ibm', 'id', 'idea', 'ident', 'identifi', 'idnumb', 'ie', 'if', 'ignor', 'ii', 'iii', 'iiiiiiihnumberjnumberhnumberjnumberhnumb', 'illeg', 'im', 'imag', 'imagin', 'immedi', 'impact', 'implement', 'import', 'impress', 'improv', 'in', 'inc', 'includ', 'incom', 'increas', 'incred', 'inde', 'independ', 'index', 'india', 'indian', 'indic', 'individu', 'industri', 'info', 'inform', 'initi', 'inlin', 'innov', 'input', 'insert', 'insid', 'instal', 'instanc', 'instant', 'instead', 'institut', 'instruct', 'insur', 'int', 'integr', 'intel', 'intellig', 'intend', 'interact', 'interest', 'interfac', 'intern', 'internet', 'interview', 'into', 'intro', 'introduc', 'inumb', 'invest', 'investig', 'investor', 'invok', 'involv', 'ip', 'ireland', 'irish', 'is', 'island', 'isn', 'iso', 'isp', 'issu', 'it', 'item', 'itself', 'jabber', 'jame', 'java', 'jim', 'jnumberiiiiiiihepihepihf', 'job', 'joe', 'john', 'join', 'journal', 'judg', 'judgment', 'jul', 'juli', 'jump', 'june', 'just', 'justin', 'keep', 'kei', 'kept', 'kernel', 'kevin', 'keyboard', 'kid', 'kill', 'kind', 'king', 'kingdom', 'knew', 'know', 'knowledg', 'known', 'la', 'lack', 'land', 'languag', 'laptop', 'larg', 'larger', 'largest', 'laser', 'last', 'late', 'later', 'latest', 'launch', 'law', 'lawrenc', 'le', 'lead', 'leader', 'learn', 'least', 'leav', 'left', 'legal', 'lender', 'length', 'less', 'lesson', 'let', 'letter', 'level', 'lib', 'librari', 'licens', 'life', 'lifetim', 'light', 'like', 'limit', 'line', 'link', 'linux', 'list', 'listen', 'littl', 'live', 'll', 'lo', 'load', 'loan', 'local', 'locat', 'lock', 'lockergnom', 'log', 'long', 'longer', 'look', 'lose', 'loss', 'lost', 'lot', 'love', 'low', 'lower', 'lowest', 'lt', 'ma', 'mac', 'machin', 'made', 'magazin', 'mai', 'mail', 'mailer', 'main', 'maintain', 'major', 'make', 'maker', 'male', 'man', 'manag', 'mani', 'manual', 'manufactur', 'map', 'march', 'margin', 'mark', 'market', 'marshal', 'mass', 'master', 'match', 'materi', 'matter', 'matthia', 'mayb', 'me', 'mean', 'measur', 'mechan', 'media', 'medic', 'meet', 'member', 'membership', 'memori', 'men', 'mention', 'menu', 'merchant', 'messag', 'method', 'mh', 'michael', 'microsoft', 'middl', 'might', 'mike', 'mile', 'militari', 'million', 'mime', 'mind', 'mine', 'mini', 'minimum', 'minut', 'miss', 'mistak', 'mobil', 'mode', 'model', 'modem', 'modifi', 'modul', 'moment', 'mon', 'mondai', 'monei', 'monitor', 'month', 'monthli', 'more', 'morn', 'mortgag', 'most', 'mostli', 'mother', 'motiv', 'move', 'movi', 'mpnumber', 'mr', 'ms', 'msg', 'much', 'multi', 'multipart', 'multipl', 'murphi', 'music', 'must', 'my', 'myself', 'name', 'nation', 'natur', 'nbsp', 'near', 'nearli', 'necessari', 'need', 'neg', 'net', 'netscap', 'network', 'never', 'new', 'newslett', 'next', 'nextpart', 'nice', 'nigeria', 'night', 'no', 'nobodi', 'non', 'none', 'nor', 'normal', 'north', 'not', 'note', 'noth', 'notic', 'now', 'nt', 'null', 'number', 'numbera', 'numberam', 'numberanumb', 'numberb', 'numberbit', 'numberc', 'numbercb', 'numbercbr', 'numbercfont', 'numbercli', 'numbercnumb', 'numbercp', 'numberctd', 'numberd', 'numberdari', 'numberdnumb', 'numberenumb', 'numberf', 'numberfb', 'numberff', 'numberffont', 'numberfp', 'numberftd', 'numberk', 'numberm', 'numbermb', 'numberp', 'numberpd', 'numberpm', 'numberpx', 'numberst', 'numberth', 'numbertnumb', 'numberx', 'object', 'oblig', 'obtain', 'obvious', 'occur', 'oct', 'octob', 'of', 'off', 'offer', 'offic', 'offici', 'often', 'oh', 'ok', 'old', 'on', 'onc', 'onli', 'onlin', 'open', 'oper', 'opinion', 'opportun', 'opt', 'optim', 'option', 'or', 'order', 'org', 'organ', 'origin', 'os', 'osdn', 'other', 'otherwis', 'our', 'out', 'outlook', 'output', 'outsid', 'over', 'own', 'owner', 'oz', 'pacif', 'pack', 'packag', 'page', 'pai', 'paid', 'pain', 'palm', 'panel', 'paper', 'paragraph', 'parent', 'part', 'parti', 'particip', 'particular', 'particularli', 'partit', 'partner', 'pass', 'password', 'past', 'patch', 'patent', 'path', 'pattern', 'paul', 'payment', 'pc', 'peac', 'peopl', 'per', 'percent', 'percentag', 'perfect', 'perfectli', 'perform', 'perhap', 'period', 'perl', 'perman', 'permiss', 'person', 'pgp', 'phone', 'photo', 'php', 'phrase', 'physic', 'pick', 'pictur', 'piec', 'piiiiiiii', 'pipe', 'pjnumber', 'place', 'plai', 'plain', 'plan', 'planet', 'plant', 'planta', 'platform', 'player', 'pleas', 'plu', 'plug', 'pm', 'pocket', 'point', 'polic', 'polici', 'polit', 'poor', 'pop', 'popul', 'popular', 'port', 'posit', 'possibl', 'post', 'potenti', 'pound', 'powel', 'power', 'powershot', 'practic', 'pre', 'predict', 'prefer', 'premium', 'prepar', 'present', 'presid', 'press', 'pretti', 'prevent', 'previou', 'previous', 'price', 'principl', 'print', 'printabl', 'printer', 'privaci', 'privat', 'prize', 'pro', 'probabl', 'problem', 'procedur', 'process', 'processor', 'procmail', 'produc', 'product', 'profession', 'profil', 'profit', 'program', 'programm', 'progress', 'project', 'promis', 'promot', 'prompt', 'properti', 'propos', 'proprietari', 'prospect', 'protect', 'protocol', 'prove', 'proven', 'provid', 'proxi', 'pub', 'public', 'publish', 'pudg', 'pull', 'purchas', 'purpos', 'put', 'python', 'qnumber', 'qualifi', 'qualiti', 'quarter', 'question', 'quick', 'quickli', 'quit', 'quot', 'radio', 'ragga', 'rais', 'random', 'rang', 'rate', 'rather', 'ratio', 'razor', 'razornumb', 're', 'reach', 'read', 'reader', 'readi', 'real', 'realiz', 'realli', 'reason', 'receiv', 'recent', 'recipi', 'recommend', 'record', 'red', 'redhat', 'reduc', 'refer', 'refin', 'reg', 'regard', 'region', 'regist', 'regul', 'regular', 'rel', 'relat', 'relationship', 'releas', 'relev', 'reliabl', 'remain', 'rememb', 'remot', 'remov', 'replac', 'repli', 'report', 'repositori', 'repres', 'republ', 'request', 'requir', 'research', 'reserv', 'resid', 'resourc', 'respect', 'respond', 'respons', 'rest', 'result', 'retail', 'return', 'reveal', 'revenu', 'revers', 'review', 'revok', 'rh', 'rich', 'right', 'risk', 'road', 'robert', 'rock', 'role', 'roll', 'rom', 'roman', 'room', 'root', 'round', 'rpm', 'rss', 'rule', 'run', 'sa', 'safe', 'sai', 'said', 'sale', 'same', 'sampl', 'san', 'saou', 'sat', 'satellit', 'save', 'saw', 'scan', 'schedul', 'school', 'scienc', 'score', 'screen', 'script', 'se', 'search', 'season', 'second', 'secret', 'section', 'secur', 'see', 'seed', 'seek', 'seem', 'seen', 'select', 'self', 'sell', 'seminar', 'send', 'sender', 'sendmail', 'senior', 'sens', 'sensit', 'sent', 'sep', 'separ', 'septemb', 'sequenc', 'seri', 'serif', 'seriou', 'serv', 'server', 'servic', 'set', 'setup', 'seven', 'seventh', 'sever', 'sex', 'sexual', 'sf', 'shape', 'share', 'she', 'shell', 'ship', 'shop', 'short', 'shot', 'should', 'show', 'side', 'sign', 'signatur', 'signific', 'similar', 'simpl', 'simpli', 'sinc', 'sincer', 'singl', 'sit', 'site', 'situat', 'six', 'size', 'skeptic', 'skill', 'skin', 'skip', 'sleep', 'slow', 'small', 'smart', 'smoke', 'smtp', 'snumber', 'so', 'social', 'societi', 'softwar', 'sold', 'solut', 'solv', 'some', 'someon', 'someth', 'sometim', 'son', 'song', 'soni', 'soon', 'sorri', 'sort', 'sound', 'sourc', 'south', 'space', 'spain', 'spam', 'spamassassin', 'spamd', 'spammer', 'speak', 'spec', 'special', 'specif', 'specifi', 'speech', 'speed', 'spend', 'sponsor', 'sport', 'spot', 'src', 'ssh', 'st', 'stabl', 'staff', 'stai', 'stand', 'standard', 'star', 'start', 'state', 'statement', 'statu', 'step', 'steve', 'still', 'stock', 'stop', 'storag', 'store', 'stori', 'strategi', 'stream', 'street', 'string', 'strip', 'strong', 'structur', 'studi', 'stuff', 'stupid', 'style', 'subject', 'submit', 'subscrib', 'subscript', 'substanti', 'success', 'such', 'suffer', 'suggest', 'suit', 'sum', 'summari', 'summer', 'sun', 'super', 'suppli', 'support', 'suppos', 'sure', 'surpris', 'suse', 'suspect', 'sweet', 'switch', 'system', 'tab', 'tabl', 'tablet', 'tag', 'take', 'taken', 'talk', 'tape', 'target', 'task', 'tax', 'teach', 'team', 'tech', 'technic', 'techniqu', 'technolog', 'tel', 'telecom', 'telephon', 'tell', 'temperatur', 'templ', 'ten', 'term', 'termin', 'terror', 'terrorist', 'test', 'texa', 'text', 'than', 'thank', 'that', 'the', 'thei', 'their', 'them', 'themselv', 'then', 'theori', 'there', 'therefor', 'these', 'thi', 'thing', 'think', 'thinkgeek', 'third', 'those', 'though', 'thought', 'thousand', 'thread', 'threat', 'three', 'through', 'thu', 'thursdai', 'ti', 'ticket', 'tim', 'time', 'tip', 'tire', 'titl', 'tm', 'to', 'todai', 'togeth', 'token', 'told', 'toll', 'tom', 'toner', 'toni', 'too', 'took', 'tool', 'top', 'topic', 'total', 'touch', 'toward', 'track', 'trade', 'tradit', 'traffic', 'train', 'transact', 'transfer', 'travel', 'treat', 'tree', 'tri', 'trial', 'trick', 'trip', 'troubl', 'true', 'truli', 'trust', 'truth', 'try', 'tue', 'tuesdai', 'turn', 'tv', 'two', 'type', 'uk', 'ultim', 'un', 'under', 'understand', 'unfortun', 'uniqu', 'unison', 'unit', 'univers', 'unix', 'unless', 'unlik', 'unlimit', 'unseen', 'unsolicit', 'unsubscrib', 'until', 'up', 'updat', 'upgrad', 'upon', 'urgent', 'url', 'us', 'usa', 'usag', 'usb', 'usd', 'usdollarnumb', 'useless', 'user', 'usr', 'usual', 'util', 'vacat', 'valid', 'valu', 'valuabl', 'var', 'variabl', 'varieti', 'variou', 've', 'vendor', 'ventur', 'veri', 'verifi', 'version', 'via', 'video', 'view', 'virtual', 'visa', 'visit', 'visual', 'vnumber', 'voic', 'vote', 'vs', 'vulner', 'wa', 'wai', 'wait', 'wake', 'walk', 'wall', 'want', 'war', 'warm', 'warn', 'warranti', 'washington', 'wasn', 'wast', 'watch', 'water', 'we', 'wealth', 'weapon', 'web', 'weblog', 'websit', 'wed', 'wednesdai', 'week', 'weekli', 'weight', 'welcom', 'well', 'went', 'were', 'west', 'what', 'whatev', 'when', 'where', 'whether', 'which', 'while', 'white', 'whitelist', 'who', 'whole', 'whose', 'why', 'wi', 'wide', 'width', 'wife', 'will', 'william', 'win', 'window', 'wing', 'winner', 'wireless', 'wish', 'with', 'within', 'without', 'wnumberp', 'woman', 'women', 'won', 'wonder', 'word', 'work', 'worker', 'world', 'worldwid', 'worri', 'worst', 'worth', 'would', 'wouldn', 'write', 'written', 'wrong', 'wrote', 'www', 'ximian', 'xml', 'xp', 'yahoo', 'ye', 'yeah', 'year', 'yesterdai', 'yet', 'york', 'you', 'young', 'your', 'yourself', 'zdnet', 'zero', 'zip'])\n"
          ]
        }
      ]
    },
    {
      "cell_type": "code",
      "source": [
        "print(vocab.values())"
      ],
      "metadata": {
        "colab": {
          "base_uri": "https://localhost:8080/"
        },
        "id": "0b_7xH98BVWL",
        "outputId": "63199182-44f9-42c2-d499-16c660ba7b9d"
      },
      "execution_count": null,
      "outputs": [
        {
          "output_type": "stream",
          "name": "stdout",
          "text": [
            "dict_values([1, 2, 3, 4, 5, 6, 7, 8, 9, 10, 11, 12, 13, 14, 15, 16, 17, 18, 19, 20, 21, 22, 23, 24, 25, 26, 27, 28, 29, 30, 31, 32, 33, 34, 35, 36, 37, 38, 39, 40, 41, 42, 43, 44, 45, 46, 47, 48, 49, 50, 51, 52, 53, 54, 55, 56, 57, 58, 59, 60, 61, 62, 63, 64, 65, 66, 67, 68, 69, 70, 71, 72, 73, 74, 75, 76, 77, 78, 79, 80, 81, 82, 83, 84, 85, 86, 87, 88, 89, 90, 91, 92, 93, 94, 95, 96, 97, 98, 99, 100, 101, 102, 103, 104, 105, 106, 107, 108, 109, 110, 111, 112, 113, 114, 115, 116, 117, 118, 119, 120, 121, 122, 123, 124, 125, 126, 127, 128, 129, 130, 131, 132, 133, 134, 135, 136, 137, 138, 139, 140, 141, 142, 143, 144, 145, 146, 147, 148, 149, 150, 151, 152, 153, 154, 155, 156, 157, 158, 159, 160, 161, 162, 163, 164, 165, 166, 167, 168, 169, 170, 171, 172, 173, 174, 175, 176, 177, 178, 179, 180, 181, 182, 183, 184, 185, 186, 187, 188, 189, 190, 191, 192, 193, 194, 195, 196, 197, 198, 199, 200, 201, 202, 203, 204, 205, 206, 207, 208, 209, 210, 211, 212, 213, 214, 215, 216, 217, 218, 219, 220, 221, 222, 223, 224, 225, 226, 227, 228, 229, 230, 231, 232, 233, 234, 235, 236, 237, 238, 239, 240, 241, 242, 243, 244, 245, 246, 247, 248, 249, 250, 251, 252, 253, 254, 255, 256, 257, 258, 259, 260, 261, 262, 263, 264, 265, 266, 267, 268, 269, 270, 271, 272, 273, 274, 275, 276, 277, 278, 279, 280, 281, 282, 283, 284, 285, 286, 287, 288, 289, 290, 291, 292, 293, 294, 295, 296, 297, 298, 299, 300, 301, 302, 303, 304, 305, 306, 307, 308, 309, 310, 311, 312, 313, 314, 315, 316, 317, 318, 319, 320, 321, 322, 323, 324, 325, 326, 327, 328, 329, 330, 331, 332, 333, 334, 335, 336, 337, 338, 339, 340, 341, 342, 343, 344, 345, 346, 347, 348, 349, 350, 351, 352, 353, 354, 355, 356, 357, 358, 359, 360, 361, 362, 363, 364, 365, 366, 367, 368, 369, 370, 371, 372, 373, 374, 375, 376, 377, 378, 379, 380, 381, 382, 383, 384, 385, 386, 387, 388, 389, 390, 391, 392, 393, 394, 395, 396, 397, 398, 399, 400, 401, 402, 403, 404, 405, 406, 407, 408, 409, 410, 411, 412, 413, 414, 415, 416, 417, 418, 419, 420, 421, 422, 423, 424, 425, 426, 427, 428, 429, 430, 431, 432, 433, 434, 435, 436, 437, 438, 439, 440, 441, 442, 443, 444, 445, 446, 447, 448, 449, 450, 451, 452, 453, 454, 455, 456, 457, 458, 459, 460, 461, 462, 463, 464, 465, 466, 467, 468, 469, 470, 471, 472, 473, 474, 475, 476, 477, 478, 479, 480, 481, 482, 483, 484, 485, 486, 487, 488, 489, 490, 491, 492, 493, 494, 495, 496, 497, 498, 499, 500, 501, 502, 503, 504, 505, 506, 507, 508, 509, 510, 511, 512, 513, 514, 515, 516, 517, 518, 519, 520, 521, 522, 523, 524, 525, 526, 527, 528, 529, 530, 531, 532, 533, 534, 535, 536, 537, 538, 539, 540, 541, 542, 543, 544, 545, 546, 547, 548, 549, 550, 551, 552, 553, 554, 555, 556, 557, 558, 559, 560, 561, 562, 563, 564, 565, 566, 567, 568, 569, 570, 571, 572, 573, 574, 575, 576, 577, 578, 579, 580, 581, 582, 583, 584, 585, 586, 587, 588, 589, 590, 591, 592, 593, 594, 595, 596, 597, 598, 599, 600, 601, 602, 603, 604, 605, 606, 607, 608, 609, 610, 611, 612, 613, 614, 615, 616, 617, 618, 619, 620, 621, 622, 623, 624, 625, 626, 627, 628, 629, 630, 631, 632, 633, 634, 635, 636, 637, 638, 639, 640, 641, 642, 643, 644, 645, 646, 647, 648, 649, 650, 651, 652, 653, 654, 655, 656, 657, 658, 659, 660, 661, 662, 663, 664, 665, 666, 667, 668, 669, 670, 671, 672, 673, 674, 675, 676, 677, 678, 679, 680, 681, 682, 683, 684, 685, 686, 687, 688, 689, 690, 691, 692, 693, 694, 695, 696, 697, 698, 699, 700, 701, 702, 703, 704, 705, 706, 707, 708, 709, 710, 711, 712, 713, 714, 715, 716, 717, 718, 719, 720, 721, 722, 723, 724, 725, 726, 727, 728, 729, 730, 731, 732, 733, 734, 735, 736, 737, 738, 739, 740, 741, 742, 743, 744, 745, 746, 747, 748, 749, 750, 751, 752, 753, 754, 755, 756, 757, 758, 759, 760, 761, 762, 763, 764, 765, 766, 767, 768, 769, 770, 771, 772, 773, 774, 775, 776, 777, 778, 779, 780, 781, 782, 783, 784, 785, 786, 787, 788, 789, 790, 791, 792, 793, 794, 795, 796, 797, 798, 799, 800, 801, 802, 803, 804, 805, 806, 807, 808, 809, 810, 811, 812, 813, 814, 815, 816, 817, 818, 819, 820, 821, 822, 823, 824, 825, 826, 827, 828, 829, 830, 831, 832, 833, 834, 835, 836, 837, 838, 839, 840, 841, 842, 843, 844, 845, 846, 847, 848, 849, 850, 851, 852, 853, 854, 855, 856, 857, 858, 859, 860, 861, 862, 863, 864, 865, 866, 867, 868, 869, 870, 871, 872, 873, 874, 875, 876, 877, 878, 879, 880, 881, 882, 883, 884, 885, 886, 887, 888, 889, 890, 891, 892, 893, 894, 895, 896, 897, 898, 899, 900, 901, 902, 903, 904, 905, 906, 907, 908, 909, 910, 911, 912, 913, 914, 915, 916, 917, 918, 919, 920, 921, 922, 923, 924, 925, 926, 927, 928, 929, 930, 931, 932, 933, 934, 935, 936, 937, 938, 939, 940, 941, 942, 943, 944, 945, 946, 947, 948, 949, 950, 951, 952, 953, 954, 955, 956, 957, 958, 959, 960, 961, 962, 963, 964, 965, 966, 967, 968, 969, 970, 971, 972, 973, 974, 975, 976, 977, 978, 979, 980, 981, 982, 983, 984, 985, 986, 987, 988, 989, 990, 991, 992, 993, 994, 995, 996, 997, 998, 999, 1000, 1001, 1002, 1003, 1004, 1005, 1006, 1007, 1008, 1009, 1010, 1011, 1012, 1013, 1014, 1015, 1016, 1017, 1018, 1019, 1020, 1021, 1022, 1023, 1024, 1025, 1026, 1027, 1028, 1029, 1030, 1031, 1032, 1033, 1034, 1035, 1036, 1037, 1038, 1039, 1040, 1041, 1042, 1043, 1044, 1045, 1046, 1047, 1048, 1049, 1050, 1051, 1052, 1053, 1054, 1055, 1056, 1057, 1058, 1059, 1060, 1061, 1062, 1063, 1064, 1065, 1066, 1067, 1068, 1069, 1070, 1071, 1072, 1073, 1074, 1075, 1076, 1077, 1078, 1079, 1080, 1081, 1082, 1083, 1084, 1085, 1086, 1087, 1088, 1089, 1090, 1091, 1092, 1093, 1094, 1095, 1096, 1097, 1098, 1099, 1100, 1101, 1102, 1103, 1104, 1105, 1106, 1107, 1108, 1109, 1110, 1111, 1112, 1113, 1114, 1115, 1116, 1117, 1118, 1119, 1120, 1121, 1122, 1123, 1124, 1125, 1126, 1127, 1128, 1129, 1130, 1131, 1132, 1133, 1134, 1135, 1136, 1137, 1138, 1139, 1140, 1141, 1142, 1143, 1144, 1145, 1146, 1147, 1148, 1149, 1150, 1151, 1152, 1153, 1154, 1155, 1156, 1157, 1158, 1159, 1160, 1161, 1162, 1163, 1164, 1165, 1166, 1167, 1168, 1169, 1170, 1171, 1172, 1173, 1174, 1175, 1176, 1177, 1178, 1179, 1180, 1181, 1182, 1183, 1184, 1185, 1186, 1187, 1188, 1189, 1190, 1191, 1192, 1193, 1194, 1195, 1196, 1197, 1198, 1199, 1200, 1201, 1202, 1203, 1204, 1205, 1206, 1207, 1208, 1209, 1210, 1211, 1212, 1213, 1214, 1215, 1216, 1217, 1218, 1219, 1220, 1221, 1222, 1223, 1224, 1225, 1226, 1227, 1228, 1229, 1230, 1231, 1232, 1233, 1234, 1235, 1236, 1237, 1238, 1239, 1240, 1241, 1242, 1243, 1244, 1245, 1246, 1247, 1248, 1249, 1250, 1251, 1252, 1253, 1254, 1255, 1256, 1257, 1258, 1259, 1260, 1261, 1262, 1263, 1264, 1265, 1266, 1267, 1268, 1269, 1270, 1271, 1272, 1273, 1274, 1275, 1276, 1277, 1278, 1279, 1280, 1281, 1282, 1283, 1284, 1285, 1286, 1287, 1288, 1289, 1290, 1291, 1292, 1293, 1294, 1295, 1296, 1297, 1298, 1299, 1300, 1301, 1302, 1303, 1304, 1305, 1306, 1307, 1308, 1309, 1310, 1311, 1312, 1313, 1314, 1315, 1316, 1317, 1318, 1319, 1320, 1321, 1322, 1323, 1324, 1325, 1326, 1327, 1328, 1329, 1330, 1331, 1332, 1333, 1334, 1335, 1336, 1337, 1338, 1339, 1340, 1341, 1342, 1343, 1344, 1345, 1346, 1347, 1348, 1349, 1350, 1351, 1352, 1353, 1354, 1355, 1356, 1357, 1358, 1359, 1360, 1361, 1362, 1363, 1364, 1365, 1366, 1367, 1368, 1369, 1370, 1371, 1372, 1373, 1374, 1375, 1376, 1377, 1378, 1379, 1380, 1381, 1382, 1383, 1384, 1385, 1386, 1387, 1388, 1389, 1390, 1391, 1392, 1393, 1394, 1395, 1396, 1397, 1398, 1399, 1400, 1401, 1402, 1403, 1404, 1405, 1406, 1407, 1408, 1409, 1410, 1411, 1412, 1413, 1414, 1415, 1416, 1417, 1418, 1419, 1420, 1421, 1422, 1423, 1424, 1425, 1426, 1427, 1428, 1429, 1430, 1431, 1432, 1433, 1434, 1435, 1436, 1437, 1438, 1439, 1440, 1441, 1442, 1443, 1444, 1445, 1446, 1447, 1448, 1449, 1450, 1451, 1452, 1453, 1454, 1455, 1456, 1457, 1458, 1459, 1460, 1461, 1462, 1463, 1464, 1465, 1466, 1467, 1468, 1469, 1470, 1471, 1472, 1473, 1474, 1475, 1476, 1477, 1478, 1479, 1480, 1481, 1482, 1483, 1484, 1485, 1486, 1487, 1488, 1489, 1490, 1491, 1492, 1493, 1494, 1495, 1496, 1497, 1498, 1499, 1500, 1501, 1502, 1503, 1504, 1505, 1506, 1507, 1508, 1509, 1510, 1511, 1512, 1513, 1514, 1515, 1516, 1517, 1518, 1519, 1520, 1521, 1522, 1523, 1524, 1525, 1526, 1527, 1528, 1529, 1530, 1531, 1532, 1533, 1534, 1535, 1536, 1537, 1538, 1539, 1540, 1541, 1542, 1543, 1544, 1545, 1546, 1547, 1548, 1549, 1550, 1551, 1552, 1553, 1554, 1555, 1556, 1557, 1558, 1559, 1560, 1561, 1562, 1563, 1564, 1565, 1566, 1567, 1568, 1569, 1570, 1571, 1572, 1573, 1574, 1575, 1576, 1577, 1578, 1579, 1580, 1581, 1582, 1583, 1584, 1585, 1586, 1587, 1588, 1589, 1590, 1591, 1592, 1593, 1594, 1595, 1596, 1597, 1598, 1599, 1600, 1601, 1602, 1603, 1604, 1605, 1606, 1607, 1608, 1609, 1610, 1611, 1612, 1613, 1614, 1615, 1616, 1617, 1618, 1619, 1620, 1621, 1622, 1623, 1624, 1625, 1626, 1627, 1628, 1629, 1630, 1631, 1632, 1633, 1634, 1635, 1636, 1637, 1638, 1639, 1640, 1641, 1642, 1643, 1644, 1645, 1646, 1647, 1648, 1649, 1650, 1651, 1652, 1653, 1654, 1655, 1656, 1657, 1658, 1659, 1660, 1661, 1662, 1663, 1664, 1665, 1666, 1667, 1668, 1669, 1670, 1671, 1672, 1673, 1674, 1675, 1676, 1677, 1678, 1679, 1680, 1681, 1682, 1683, 1684, 1685, 1686, 1687, 1688, 1689, 1690, 1691, 1692, 1693, 1694, 1695, 1696, 1697, 1698, 1699, 1700, 1701, 1702, 1703, 1704, 1705, 1706, 1707, 1708, 1709, 1710, 1711, 1712, 1713, 1714, 1715, 1716, 1717, 1718, 1719, 1720, 1721, 1722, 1723, 1724, 1725, 1726, 1727, 1728, 1729, 1730, 1731, 1732, 1733, 1734, 1735, 1736, 1737, 1738, 1739, 1740, 1741, 1742, 1743, 1744, 1745, 1746, 1747, 1748, 1749, 1750, 1751, 1752, 1753, 1754, 1755, 1756, 1757, 1758, 1759, 1760, 1761, 1762, 1763, 1764, 1765, 1766, 1767, 1768, 1769, 1770, 1771, 1772, 1773, 1774, 1775, 1776, 1777, 1778, 1779, 1780, 1781, 1782, 1783, 1784, 1785, 1786, 1787, 1788, 1789, 1790, 1791, 1792, 1793, 1794, 1795, 1796, 1797, 1798, 1799, 1800, 1801, 1802, 1803, 1804, 1805, 1806, 1807, 1808, 1809, 1810, 1811, 1812, 1813, 1814, 1815, 1816, 1817, 1818, 1819, 1820, 1821, 1822, 1823, 1824, 1825, 1826, 1827, 1828, 1829, 1830, 1831, 1832, 1833, 1834, 1835, 1836, 1837, 1838, 1839, 1840, 1841, 1842, 1843, 1844, 1845, 1846, 1847, 1848, 1849, 1850, 1851, 1852, 1853, 1854, 1855, 1856, 1857, 1858, 1859, 1860, 1861, 1862, 1863, 1864, 1865, 1866, 1867, 1868, 1869, 1870, 1871, 1872, 1873, 1874, 1875, 1876, 1877, 1878, 1879, 1880, 1881, 1882, 1883, 1884, 1885, 1886, 1887, 1888, 1889, 1890, 1891, 1892, 1893, 1894, 1895, 1896, 1897, 1898, 1899])\n"
          ]
        }
      ]
    },
    {
      "cell_type": "code",
      "source": [
        "# this function takes an email from the dataset as input and returns a word vector\n",
        "# this word vector indicates which vocabulary words are present in the email\n",
        "def email_preprocessing(email):\n",
        "\n",
        "    #print(email)\n",
        "\n",
        "    # Vocabulary dictionary\n",
        "    vocab_dict = vocabulary_dictionary()\n",
        "\n",
        "    # Word vector\n",
        "    word_vector = []\n",
        "\n",
        "    # converting the entire email into lower case\n",
        "    email = email.lower()\n",
        "\n",
        "    # removing all the HTML tags from the email\n",
        "    email = re.sub('<[^<>]+>', ' ', email)\n",
        "\n",
        "    #replacing numbers with the text 'number'\n",
        "    email = re.sub('[0-9]+', 'number', email)\n",
        "\n",
        "    #replacing URLs with the text 'httpaddr'\n",
        "    email = re.sub('(http|https)://[^\\s]*', 'httpaddr', email)\n",
        "\n",
        "    #replacing email addresses with the text 'emailaddr'\n",
        "    email = re.sub('[^\\s]+@[^\\s]+', 'emailaddr', email)\n",
        "\n",
        "    #replacing dollar sign($) with the text \"dollar\".\n",
        "    email = re.sub('[$]+', 'dollar', email)\n",
        "\n",
        "    #print(email)\n",
        "\n",
        "    counter = 0\n",
        "    \n",
        "    # removing punctuations\n",
        "    email = email.translate(str.maketrans('', '', punctuation))\n",
        "\n",
        "    email = email.split()\n",
        "    for t in email:\n",
        "\n",
        "        t = re.sub('[^a-zA-Z0-9]', '', t)\n",
        "        \n",
        "        stemmer = SnowballStemmer(\"english\")\n",
        "        t = stemmer.stem(t.strip())\n",
        "\n",
        "        if len(t) < 1:\n",
        "           continue\n",
        "\n",
        "        if t in vocab_dict:\n",
        "            id = vocab_dict[t]\n",
        "            word_vector.append(id)\n",
        "\n",
        "        if counter + len(t) + 1 > 78:\n",
        "            #print()\n",
        "            counter = 0\n",
        "        #print(t, end=' ')\n",
        "        counter = counter + len(t) + 1\n",
        "\n",
        "    return word_vector"
      ],
      "metadata": {
        "id": "qw9UA330Botp"
      },
      "execution_count": null,
      "outputs": []
    },
    {
      "cell_type": "code",
      "source": [
        "word_vector = email_preprocessing(data.iloc[2]['text'])"
      ],
      "metadata": {
        "colab": {
          "base_uri": "https://localhost:8080/"
        },
        "id": "XEq9JxgZCXzB",
        "outputId": "569df30a-cde8-4ee3-92b1-2965ccec8e64"
      },
      "execution_count": null,
      "outputs": [
        {
          "output_type": "stream",
          "name": "stdout",
          "text": [
            "WE NEED HELP.  We are a 14 year old fortune 500 company, and we have \n",
            "\n",
            "grown 1000%!  We cannot keep up.  We are looking for individuals who \n",
            "\n",
            "want to work at home, and make a good living.\n",
            "\n",
            "\n",
            "\n",
            "So if you are looking to be employed from home with a career that has\n",
            "\n",
            "vast opportunities, then go:\n",
            "\n",
            "\n",
            "\n",
            "http://www.lotsonet.com/opportunity\n",
            "\n",
            "\n",
            "\n",
            "and fill out our info form.  NO EXPERIENCE REQUIRED, WE WILL TRAIN YOU.\n",
            "\n",
            "NO COMMITTMENT IS REQUIRED BY FILLING OUT THE FORM, IT IS FOR INFO\n",
            "\n",
            "ONLY.\n",
            "\n",
            "\n",
            "\n",
            "http://www.lotsonet.com/opportunity\n",
            "\n",
            "\n",
            "\n",
            "You want to be independent?  THEN MAKE IT HAPPEN!\n",
            "\n",
            "HAPPEN!\n",
            "\n",
            "\n",
            "\n",
            "SIMPLY CLICK ON THE LINK BELOW FOR FREE, NO OBLIGATED INFORMATION!\n",
            "\n",
            "GUARANTEED!\n",
            "\n",
            "\n",
            "\n",
            "http://www.lotsonet.com/opportunity\n",
            "\n",
            "\n",
            "\n",
            "\n",
            "\n",
            "To be removed from our link simple go to:\n",
            "\n",
            "\n",
            "\n",
            "http://www.lotsonet.com/opportunity/remove.html\n",
            "\n",
            "\n",
            "\n",
            "\n",
            "\n",
            "4171uCAC8-021gCco3337qYKc4-050NVjZ1161Zl37\n",
            "\n",
            "\n",
            "\n",
            "\n",
            "\n",
            "we need help.  we are a number year old fortune number company, and we have \n",
            "\n",
            "grown number%!  we cannot keep up.  we are looking for individuals who \n",
            "\n",
            "want to work at home, and make a good living.\n",
            "\n",
            "\n",
            "\n",
            "so if you are looking to be employed from home with a career that has\n",
            "\n",
            "vast opportunities, then go:\n",
            "\n",
            "\n",
            "\n",
            "httpaddr\n",
            "\n",
            "\n",
            "\n",
            "and fill out our info form.  no experience required, we will train you.\n",
            "\n",
            "no committment is required by filling out the form, it is for info\n",
            "\n",
            "only.\n",
            "\n",
            "\n",
            "\n",
            "httpaddr\n",
            "\n",
            "\n",
            "\n",
            "you want to be independent?  then make it happen!\n",
            "\n",
            "happen!\n",
            "\n",
            "\n",
            "\n",
            "simply click on the link below for free, no obligated information!\n",
            "\n",
            "guaranteed!\n",
            "\n",
            "\n",
            "\n",
            "httpaddr\n",
            "\n",
            "\n",
            "\n",
            "\n",
            "\n",
            "to be removed from our link simple go to:\n",
            "\n",
            "\n",
            "\n",
            "httpaddr\n",
            "\n",
            "\n",
            "\n",
            "\n",
            "\n",
            "numberucacnumber-numbergcconumberqykcnumber-numbernvjznumberzlnumber\n",
            "\n",
            "\n",
            "\n",
            "\n",
            "\n",
            "we need help we are a number year old fortun number compani and we have grown \n",
            "number we cannot keep up we are look for individu who want to work at home \n",
            "and make a good live so if you are look to be employ from home with a career \n",
            "that has vast opportun then go httpaddr and fill out our info form no experi \n",
            "requir we will train you no committ is requir by fill out the form it is for \n",
            "info onli httpaddr you want to be independ then make it happen happen simpli \n",
            "click on the link below for free no oblig inform guarante httpaddr to be \n",
            "remov from our link simpl go to httpaddr \n",
            "numberucacnumbernumbergcconumberqykcnumbernumbernvjznumberzlnumb "
          ]
        }
      ]
    },
    {
      "cell_type": "code",
      "source": [
        "import numpy as np\n",
        "print(np.shape(word_vector))"
      ],
      "metadata": {
        "colab": {
          "base_uri": "https://localhost:8080/"
        },
        "id": "tdxWOw0p7h2R",
        "outputId": "92d076ad-9e24-42d4-f89c-4a1e11a101f6"
      },
      "execution_count": null,
      "outputs": [
        {
          "output_type": "stream",
          "name": "stdout",
          "text": [
            "(108,)\n"
          ]
        }
      ]
    },
    {
      "cell_type": "code",
      "source": [
        "print(word_vector)"
      ],
      "metadata": {
        "id": "mQ3IiTObC57K",
        "colab": {
          "base_uri": "https://localhost:8080/"
        },
        "outputId": "0c3482d5-9726-439b-ade7-135583c41905"
      },
      "execution_count": null,
      "outputs": [
        {
          "output_type": "stream",
          "name": "stdout",
          "text": [
            "[1819, 1093, 771, 1819, 1120, 1889, 1170, 675, 1120, 321, 74, 1819, 756, 1120, 1819, 240, 904, 1760, 1819, 976, 666, 837, 1844, 1809, 1699, 1869, 124, 787, 74, 997, 724, 964, 1538, 810, 1893, 976, 1699, 162, 534, 688, 787, 1860, 248, 1665, 1178, 1671, 718, 799, 74, 640, 1192, 1191, 839, 672, 1106, 594, 1406, 1819, 1852, 1720, 1893, 1106, 877, 1406, 227, 640, 1192, 1666, 672, 883, 877, 666, 839, 1173, 799, 1893, 1809, 1699, 162, 832, 1671, 997, 883, 750, 750, 1518, 298, 1171, 1666, 959, 174, 666, 681, 1106, 1156, 840, 739, 799, 1699, 162, 1398, 688, 1191, 959, 1517, 718, 1699, 799]\n"
          ]
        }
      ]
    },
    {
      "cell_type": "code",
      "source": [
        "import numpy as np\n",
        "\n",
        "# this function takes a word vector as input and returns a feature vector\n",
        "def create_feature_vector(word_vector):\n",
        "  \n",
        "    num_of_words = 1899\n",
        "\n",
        "    feature_vector = np.zeros((num_of_words, 1))\n",
        "\n",
        "    for i in word_vector:\n",
        "        if i == 1899:\n",
        "          pass\n",
        "        else:\n",
        "          feature_vector[i] = 1\n",
        "\n",
        "    return feature_vector"
      ],
      "metadata": {
        "id": "Z7l-6jdfW1s-"
      },
      "execution_count": null,
      "outputs": []
    },
    {
      "cell_type": "code",
      "source": [
        "features = create_feature_vector(word_vector)\n",
        "print(np.shape(features))"
      ],
      "metadata": {
        "colab": {
          "base_uri": "https://localhost:8080/"
        },
        "id": "x92GmAZ0_MZU",
        "outputId": "24c27fdc-869f-4a5c-f0c0-e451fe9eae7f"
      },
      "execution_count": null,
      "outputs": [
        {
          "output_type": "stream",
          "name": "stdout",
          "text": [
            "(1899, 1)\n"
          ]
        }
      ]
    },
    {
      "cell_type": "code",
      "source": [
        "# creating train_x and train_y\n",
        "train_x = np.zeros((6849, 1899))\n",
        "train_y = np.zeros((6849, 1))\n",
        "for i in range(6849):\n",
        "  word_vector = email_preprocessing(data.iloc[i]['text'])\n",
        "  if data.iloc[i]['class'] == 'spam':\n",
        "    train_y[i] = 1\n",
        "  features = create_feature_vector(word_vector)\n",
        "  train_x[i] = features.transpose()"
      ],
      "metadata": {
        "id": "4BVxh6H6v_y4"
      },
      "execution_count": null,
      "outputs": []
    },
    {
      "cell_type": "code",
      "source": [
        "print(np.shape(train_x))\n",
        "print(np.shape(train_y))"
      ],
      "metadata": {
        "colab": {
          "base_uri": "https://localhost:8080/"
        },
        "id": "ASfaE0247Z3v",
        "outputId": "3f6df7f7-a378-4b40-de6d-3cdfd8a9ae86"
      },
      "execution_count": null,
      "outputs": [
        {
          "output_type": "stream",
          "name": "stdout",
          "text": [
            "(6849, 1899)\n",
            "(6849, 1)\n"
          ]
        }
      ]
    },
    {
      "cell_type": "code",
      "source": [
        "print(train_y[10:20, :])"
      ],
      "metadata": {
        "colab": {
          "base_uri": "https://localhost:8080/"
        },
        "id": "I_9M6QHp-qCo",
        "outputId": "0b784447-6728-4c66-de31-b04b429db67e"
      },
      "execution_count": null,
      "outputs": [
        {
          "output_type": "stream",
          "name": "stdout",
          "text": [
            "[[0.]\n",
            " [1.]\n",
            " [1.]\n",
            " [0.]\n",
            " [0.]\n",
            " [1.]\n",
            " [1.]\n",
            " [1.]\n",
            " [1.]\n",
            " [1.]]\n"
          ]
        }
      ]
    },
    {
      "cell_type": "code",
      "source": [
        "for i in range(10, 20):\n",
        "  print(data.iloc[i]['class'])"
      ],
      "metadata": {
        "colab": {
          "base_uri": "https://localhost:8080/"
        },
        "id": "9LU13j9P-2gq",
        "outputId": "45daee57-dda6-4bb1-8297-b8658aecd119"
      },
      "execution_count": null,
      "outputs": [
        {
          "output_type": "stream",
          "name": "stdout",
          "text": [
            "ham\n",
            "spam\n",
            "spam\n",
            "ham\n",
            "ham\n",
            "spam\n",
            "spam\n",
            "spam\n",
            "spam\n",
            "spam\n"
          ]
        }
      ]
    },
    {
      "cell_type": "code",
      "source": [
        "# I have used SVM to build the spam classifier,\n",
        "# As per the question \"The algorithms (except SVM) need to be coded from scratch\"\n",
        "# So I have used \"sklearn\" for building the SVM classifier\n",
        "\n",
        "from sklearn import svm\n",
        "\n",
        "X = train_x\n",
        "y = train_y\n",
        "\n",
        "C = 0.1\n",
        "y = y.ravel()\n",
        "svc = svm.SVC(C = C, kernel = 'linear')\n",
        "svc.fit(X, y)\n",
        "p = svc.predict(X)\n",
        "\n",
        "print('Training Accuracy: {0:.2f}%'.format(np.mean((p == y).astype(int)) * 100))"
      ],
      "metadata": {
        "colab": {
          "base_uri": "https://localhost:8080/"
        },
        "id": "VmxUE_gsABQ4",
        "outputId": "3803d600-69fc-4c1b-db1f-c79371e1c31a"
      },
      "execution_count": null,
      "outputs": [
        {
          "output_type": "stream",
          "name": "stdout",
          "text": [
            "Training Accuracy: 99.77%\n"
          ]
        }
      ]
    },
    {
      "cell_type": "code",
      "source": [
        "# this code extracts the test.zip folder\n",
        "# if your test folder is not a zip folder then do not run this block\n",
        "zip_path = 'test.zip'\n",
        "zip_ref = zipfile.ZipFile(zip_path, 'r')\n",
        "zip_ref.extractall()\n",
        "zip_ref.close()"
      ],
      "metadata": {
        "id": "oYtbPGJeON7u"
      },
      "execution_count": 36,
      "outputs": []
    },
    {
      "cell_type": "code",
      "source": [
        "import os\n",
        "directory = 'test'\n",
        "\n",
        "# this function reads the emails of the 'test' folder \n",
        "# generates prediction for each of the test emails\n",
        "# and returns a prediction vector\n",
        "def read_and_predict() :\n",
        "\n",
        "    i = 0\n",
        "    for filename in os.listdir(directory):\n",
        "      if filename.endswith(\".txt\"):\n",
        "        i += 1\n",
        "\n",
        "    predictions = np.zeros((i, ))\n",
        "\n",
        "    for filename in os.listdir(directory):\n",
        "        if filename.endswith(\".txt\"):\n",
        "          #print(filename)\n",
        "          s = filename[:-4]\n",
        "          #print(s)\n",
        "          email_number = s[5:]\n",
        "          #print(email_number)\n",
        "          with open('test/' + filename, 'r') as email:\n",
        "            file_contents = email.read()\n",
        "            #print(file_contents)\n",
        "          word_vector  = email_preprocessing(file_contents)\n",
        "          feature_vector = create_feature_vector(word_vector)\n",
        "          pr = svc.predict(feature_vector.transpose())\n",
        "          predictions[int(email_number)-1] = pr\n",
        "    \n",
        "    return predictions"
      ],
      "metadata": {
        "id": "tXF3-BBNEkRi"
      },
      "execution_count": 40,
      "outputs": []
    },
    {
      "cell_type": "code",
      "source": [
        "read_and_predict()       "
      ],
      "metadata": {
        "colab": {
          "base_uri": "https://localhost:8080/"
        },
        "id": "GFiMVC8b-bd0",
        "outputId": "634f01bc-f84a-4769-a1ed-d69b41a27b9a"
      },
      "execution_count": 42,
      "outputs": [
        {
          "output_type": "execute_result",
          "data": {
            "text/plain": [
              "array([0., 0., 1., 1., 1., 0., 0., 0., 1., 1., 1., 0.])"
            ]
          },
          "metadata": {},
          "execution_count": 42
        }
      ]
    }
  ]
}